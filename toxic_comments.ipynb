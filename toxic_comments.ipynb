{
 "cells": [
  {
   "cell_type": "markdown",
   "id": "bc3d2ebd",
   "metadata": {},
   "source": [
    "# Решение турнирной задачи внутри отдела"
   ]
  },
  {
   "cell_type": "markdown",
   "id": "da4fc8fc",
   "metadata": {},
   "source": [
    "## 1. Введение"
   ]
  },
  {
   "cell_type": "markdown",
   "id": "a8a3cb87",
   "metadata": {},
   "source": [
    "Представлен датасет, содержащий различных комментарии, кластеризованные в зависимости от содержания на токсичные и нейтральные.\n",
    "<br>\n",
    "\n",
    "Необходимо составить модель ML, определяющая комментарий к той или иной группе.\n",
    "\n",
    "Ключевая метрика - f1-мера"
   ]
  },
  {
   "cell_type": "markdown",
   "id": "6c699f12",
   "metadata": {},
   "source": [
    "------"
   ]
  },
  {
   "cell_type": "markdown",
   "id": "231a85ed",
   "metadata": {},
   "source": [
    "## 2. Первичное знакомство с данными"
   ]
  },
  {
   "cell_type": "markdown",
   "id": "82b0c8ad",
   "metadata": {},
   "source": [
    "Установка библиотек (опционально, при отсутствии):"
   ]
  },
  {
   "cell_type": "code",
   "execution_count": 1,
   "id": "52bd7e87",
   "metadata": {},
   "outputs": [],
   "source": [
    "# pip install pandas seaborn matplotlib scipy tabulate scikit-learn plotly keras tensorflow\n",
    "# nltk.download('wordnet')"
   ]
  },
  {
   "cell_type": "markdown",
   "id": "7f7b25a3",
   "metadata": {},
   "source": [
    "Импорт библиотек:"
   ]
  },
  {
   "cell_type": "code",
   "execution_count": 42,
   "id": "93a9547c",
   "metadata": {},
   "outputs": [],
   "source": [
    "import pandas as pd\n",
    "from sklearn.model_selection import train_test_split\n",
    "from sklearn.feature_extraction.text import TfidfVectorizer\n",
    "from sklearn.linear_model import LogisticRegression\n",
    "from sklearn.metrics import f1_score\n",
    "from sklearn.pipeline import make_pipeline\n",
    "import matplotlib.pyplot as plt\n",
    "\n",
    "import re\n",
    "import nltk\n",
    "from nltk.corpus import stopwords\n",
    "from nltk.stem import WordNetLemmatizer\n",
    "from nltk.tokenize import RegexpTokenizer\n",
    "\n",
    "from keras.preprocessing.sequence import pad_sequences\n",
    "from keras.utils import to_categorical\n",
    "\n",
    "from sklearn.model_selection import train_test_split\n",
    "from sklearn.feature_extraction.text import CountVectorizer, TfidfVectorizer"
   ]
  },
  {
   "cell_type": "markdown",
   "id": "fc5a8c99",
   "metadata": {},
   "source": [
    "Считываем файл CSV:"
   ]
  },
  {
   "cell_type": "code",
   "execution_count": 3,
   "id": "050b2260",
   "metadata": {},
   "outputs": [],
   "source": [
    "PATH = 'toxic_comments.csv'"
   ]
  },
  {
   "cell_type": "code",
   "execution_count": 4,
   "id": "62f0325c",
   "metadata": {},
   "outputs": [],
   "source": [
    "df_init = pd.read_csv(PATH)"
   ]
  },
  {
   "cell_type": "markdown",
   "id": "2f058152",
   "metadata": {},
   "source": [
    "Выведем первые и последние 5 строк:"
   ]
  },
  {
   "cell_type": "code",
   "execution_count": 5,
   "id": "ec6c886f",
   "metadata": {},
   "outputs": [
    {
     "data": {
      "text/html": [
       "<div>\n",
       "<style scoped>\n",
       "    .dataframe tbody tr th:only-of-type {\n",
       "        vertical-align: middle;\n",
       "    }\n",
       "\n",
       "    .dataframe tbody tr th {\n",
       "        vertical-align: top;\n",
       "    }\n",
       "\n",
       "    .dataframe thead th {\n",
       "        text-align: right;\n",
       "    }\n",
       "</style>\n",
       "<table border=\"1\" class=\"dataframe\">\n",
       "  <thead>\n",
       "    <tr style=\"text-align: right;\">\n",
       "      <th></th>\n",
       "      <th>Unnamed: 0</th>\n",
       "      <th>text</th>\n",
       "      <th>toxic</th>\n",
       "    </tr>\n",
       "  </thead>\n",
       "  <tbody>\n",
       "    <tr>\n",
       "      <th>0</th>\n",
       "      <td>0</td>\n",
       "      <td>Explanation\\r\\nWhy the edits made under my use...</td>\n",
       "      <td>0</td>\n",
       "    </tr>\n",
       "    <tr>\n",
       "      <th>1</th>\n",
       "      <td>1</td>\n",
       "      <td>D'aww! He matches this background colour I'm s...</td>\n",
       "      <td>0</td>\n",
       "    </tr>\n",
       "    <tr>\n",
       "      <th>2</th>\n",
       "      <td>2</td>\n",
       "      <td>Hey man, I'm really not trying to edit war. It...</td>\n",
       "      <td>0</td>\n",
       "    </tr>\n",
       "    <tr>\n",
       "      <th>3</th>\n",
       "      <td>3</td>\n",
       "      <td>\"\\r\\nMore\\r\\nI can't make any real suggestions...</td>\n",
       "      <td>0</td>\n",
       "    </tr>\n",
       "    <tr>\n",
       "      <th>4</th>\n",
       "      <td>4</td>\n",
       "      <td>You, sir, are my hero. Any chance you remember...</td>\n",
       "      <td>0</td>\n",
       "    </tr>\n",
       "  </tbody>\n",
       "</table>\n",
       "</div>"
      ],
      "text/plain": [
       "   Unnamed: 0                                               text  toxic\n",
       "0           0  Explanation\\r\\nWhy the edits made under my use...      0\n",
       "1           1  D'aww! He matches this background colour I'm s...      0\n",
       "2           2  Hey man, I'm really not trying to edit war. It...      0\n",
       "3           3  \"\\r\\nMore\\r\\nI can't make any real suggestions...      0\n",
       "4           4  You, sir, are my hero. Any chance you remember...      0"
      ]
     },
     "execution_count": 5,
     "metadata": {},
     "output_type": "execute_result"
    }
   ],
   "source": [
    "df_init.head()"
   ]
  },
  {
   "cell_type": "code",
   "execution_count": 6,
   "id": "4da043ce",
   "metadata": {},
   "outputs": [
    {
     "data": {
      "text/html": [
       "<div>\n",
       "<style scoped>\n",
       "    .dataframe tbody tr th:only-of-type {\n",
       "        vertical-align: middle;\n",
       "    }\n",
       "\n",
       "    .dataframe tbody tr th {\n",
       "        vertical-align: top;\n",
       "    }\n",
       "\n",
       "    .dataframe thead th {\n",
       "        text-align: right;\n",
       "    }\n",
       "</style>\n",
       "<table border=\"1\" class=\"dataframe\">\n",
       "  <thead>\n",
       "    <tr style=\"text-align: right;\">\n",
       "      <th></th>\n",
       "      <th>Unnamed: 0</th>\n",
       "      <th>text</th>\n",
       "      <th>toxic</th>\n",
       "    </tr>\n",
       "  </thead>\n",
       "  <tbody>\n",
       "    <tr>\n",
       "      <th>159287</th>\n",
       "      <td>159446</td>\n",
       "      <td>\":::::And for the second time of asking, when ...</td>\n",
       "      <td>0</td>\n",
       "    </tr>\n",
       "    <tr>\n",
       "      <th>159288</th>\n",
       "      <td>159447</td>\n",
       "      <td>You should be ashamed of yourself \\r\\n\\r\\nThat...</td>\n",
       "      <td>0</td>\n",
       "    </tr>\n",
       "    <tr>\n",
       "      <th>159289</th>\n",
       "      <td>159448</td>\n",
       "      <td>Spitzer \\r\\n\\r\\nUmm, theres no actual article ...</td>\n",
       "      <td>0</td>\n",
       "    </tr>\n",
       "    <tr>\n",
       "      <th>159290</th>\n",
       "      <td>159449</td>\n",
       "      <td>And it looks like it was actually you who put ...</td>\n",
       "      <td>0</td>\n",
       "    </tr>\n",
       "    <tr>\n",
       "      <th>159291</th>\n",
       "      <td>159450</td>\n",
       "      <td>\"\\r\\nAnd ... I really don't think you understa...</td>\n",
       "      <td>0</td>\n",
       "    </tr>\n",
       "  </tbody>\n",
       "</table>\n",
       "</div>"
      ],
      "text/plain": [
       "        Unnamed: 0                                               text  toxic\n",
       "159287      159446  \":::::And for the second time of asking, when ...      0\n",
       "159288      159447  You should be ashamed of yourself \\r\\n\\r\\nThat...      0\n",
       "159289      159448  Spitzer \\r\\n\\r\\nUmm, theres no actual article ...      0\n",
       "159290      159449  And it looks like it was actually you who put ...      0\n",
       "159291      159450  \"\\r\\nAnd ... I really don't think you understa...      0"
      ]
     },
     "execution_count": 6,
     "metadata": {},
     "output_type": "execute_result"
    }
   ],
   "source": [
    "df_init.tail()"
   ]
  },
  {
   "cell_type": "markdown",
   "id": "57dce6d7",
   "metadata": {},
   "source": [
    "Выведем основную информацию о датафрейме:"
   ]
  },
  {
   "cell_type": "code",
   "execution_count": 7,
   "id": "5c7a59dd",
   "metadata": {},
   "outputs": [
    {
     "name": "stdout",
     "output_type": "stream",
     "text": [
      "<class 'pandas.core.frame.DataFrame'>\n",
      "RangeIndex: 159292 entries, 0 to 159291\n",
      "Data columns (total 3 columns):\n",
      " #   Column      Non-Null Count   Dtype \n",
      "---  ------      --------------   ----- \n",
      " 0   Unnamed: 0  159292 non-null  int64 \n",
      " 1   text        159292 non-null  object\n",
      " 2   toxic       159292 non-null  int64 \n",
      "dtypes: int64(2), object(1)\n",
      "memory usage: 3.6+ MB\n"
     ]
    }
   ],
   "source": [
    "df_init.info()"
   ]
  },
  {
   "cell_type": "code",
   "execution_count": 8,
   "id": "6a3f2c86",
   "metadata": {},
   "outputs": [
    {
     "data": {
      "text/html": [
       "<div>\n",
       "<style scoped>\n",
       "    .dataframe tbody tr th:only-of-type {\n",
       "        vertical-align: middle;\n",
       "    }\n",
       "\n",
       "    .dataframe tbody tr th {\n",
       "        vertical-align: top;\n",
       "    }\n",
       "\n",
       "    .dataframe thead th {\n",
       "        text-align: right;\n",
       "    }\n",
       "</style>\n",
       "<table border=\"1\" class=\"dataframe\">\n",
       "  <thead>\n",
       "    <tr style=\"text-align: right;\">\n",
       "      <th></th>\n",
       "      <th>count</th>\n",
       "      <th>mean</th>\n",
       "      <th>std</th>\n",
       "      <th>min</th>\n",
       "      <th>25%</th>\n",
       "      <th>50%</th>\n",
       "      <th>75%</th>\n",
       "      <th>max</th>\n",
       "    </tr>\n",
       "  </thead>\n",
       "  <tbody>\n",
       "    <tr>\n",
       "      <th>Unnamed: 0</th>\n",
       "      <td>159292.0</td>\n",
       "      <td>79725.697242</td>\n",
       "      <td>46028.837471</td>\n",
       "      <td>0.0</td>\n",
       "      <td>39872.75</td>\n",
       "      <td>79721.5</td>\n",
       "      <td>119573.25</td>\n",
       "      <td>159450.0</td>\n",
       "    </tr>\n",
       "    <tr>\n",
       "      <th>toxic</th>\n",
       "      <td>159292.0</td>\n",
       "      <td>0.101612</td>\n",
       "      <td>0.302139</td>\n",
       "      <td>0.0</td>\n",
       "      <td>0.00</td>\n",
       "      <td>0.0</td>\n",
       "      <td>0.00</td>\n",
       "      <td>1.0</td>\n",
       "    </tr>\n",
       "  </tbody>\n",
       "</table>\n",
       "</div>"
      ],
      "text/plain": [
       "               count          mean           std  min       25%      50%  \\\n",
       "Unnamed: 0  159292.0  79725.697242  46028.837471  0.0  39872.75  79721.5   \n",
       "toxic       159292.0      0.101612      0.302139  0.0      0.00      0.0   \n",
       "\n",
       "                  75%       max  \n",
       "Unnamed: 0  119573.25  159450.0  \n",
       "toxic            0.00       1.0  "
      ]
     },
     "execution_count": 8,
     "metadata": {},
     "output_type": "execute_result"
    }
   ],
   "source": [
    "df_init.describe().T"
   ]
  },
  {
   "cell_type": "markdown",
   "id": "4baa8bcb",
   "metadata": {},
   "source": [
    "Проверим наличие пропусков данных:"
   ]
  },
  {
   "cell_type": "code",
   "execution_count": 9,
   "id": "177a9797",
   "metadata": {},
   "outputs": [
    {
     "data": {
      "text/plain": [
       "Unnamed: 0    0\n",
       "text          0\n",
       "toxic         0\n",
       "dtype: int64"
      ]
     },
     "execution_count": 9,
     "metadata": {},
     "output_type": "execute_result"
    }
   ],
   "source": [
    "df_init.isna().sum()"
   ]
  },
  {
   "cell_type": "markdown",
   "id": "c5cc9c7b",
   "metadata": {},
   "source": [
    "Проверим наличие дубликатов:"
   ]
  },
  {
   "cell_type": "code",
   "execution_count": 10,
   "id": "771f7eb1",
   "metadata": {},
   "outputs": [
    {
     "data": {
      "text/plain": [
       "0.0"
      ]
     },
     "execution_count": 10,
     "metadata": {},
     "output_type": "execute_result"
    }
   ],
   "source": [
    "df_init.duplicated().mean()"
   ]
  },
  {
   "cell_type": "markdown",
   "id": "5c636f09",
   "metadata": {},
   "source": [
    "**Выводы:**"
   ]
  },
  {
   "cell_type": "markdown",
   "id": "f81fe6cd",
   "metadata": {},
   "source": [
    "- Данные состоят только из трех столбцов\n",
    "- Столбец `Unnamed:0` на первый взгляд не содержит полезной информации\n",
    "- Данные не содержат дубликатов\n",
    "- Комментарии содержат большое количество символов и слов, не несущих смысловой нагрузки"
   ]
  },
  {
   "cell_type": "markdown",
   "id": "d8c031c3",
   "metadata": {},
   "source": [
    "----"
   ]
  },
  {
   "cell_type": "markdown",
   "id": "009f3d94",
   "metadata": {},
   "source": [
    "## 3. Первичный исследовательский анализ"
   ]
  },
  {
   "cell_type": "markdown",
   "id": "85205e88",
   "metadata": {},
   "source": [
    "### 3.1 Предобработаем исходные данные:"
   ]
  },
  {
   "cell_type": "code",
   "execution_count": 11,
   "id": "9b37399c",
   "metadata": {},
   "outputs": [],
   "source": [
    "df = df_init.copy()"
   ]
  },
  {
   "cell_type": "markdown",
   "id": "9531dd18",
   "metadata": {},
   "source": [
    "Удалим ненужные столбцы:"
   ]
  },
  {
   "cell_type": "code",
   "execution_count": 26,
   "id": "acd60aa0",
   "metadata": {},
   "outputs": [],
   "source": [
    "df = df.drop(labels=['Unnamed: 0'], axis=1).copy()"
   ]
  },
  {
   "cell_type": "markdown",
   "id": "deff6cac",
   "metadata": {},
   "source": [
    "Обработаем текст комментариев:"
   ]
  },
  {
   "cell_type": "code",
   "execution_count": 18,
   "id": "6cafc3f5",
   "metadata": {},
   "outputs": [],
   "source": [
    "def clean_text(text):\n",
    "    # Приведение к нижнему регистру\n",
    "    text = text.lower()\n",
    "    \n",
    "    # Удаление пунктуации\n",
    "    text = re.sub(r'[^\\w\\s]', '', text)\n",
    "    \n",
    "    # Удаление стоп-слов\n",
    "    stop_words = set(stopwords.words('english'))\n",
    "    words = text.split()\n",
    "    words = [word for word in words if word not in stop_words]\n",
    "    \n",
    "    # Лемматизация\n",
    "    lemmatizer = WordNetLemmatizer()\n",
    "    words = [lemmatizer.lemmatize(word) for word in words]\n",
    "    \n",
    "    # Объединение слов обратно в текст\n",
    "    cleaned_text = ' '.join(words)\n",
    "    \n",
    "    return cleaned_text\n"
   ]
  },
  {
   "cell_type": "code",
   "execution_count": 19,
   "id": "d1c685e1",
   "metadata": {},
   "outputs": [],
   "source": [
    "df['cleaned_comment'] = df['text'].apply(clean_text)"
   ]
  },
  {
   "cell_type": "markdown",
   "id": "e17c0803",
   "metadata": {},
   "source": [
    "### 3.2 Подготовим даные"
   ]
  },
  {
   "cell_type": "markdown",
   "id": "35d6cacf",
   "metadata": {},
   "source": [
    "Теперь, когда наши входные данные стали более разумными, давайте преобразуем их так, чтобы наша модель могла их понять:\n",
    "* Токенизация предложений в список отдельных слов\n",
    "* Изучение свойств получившегося датасета\n",
    "* Создание тестового и обучающего сета "
   ]
  },
  {
   "cell_type": "markdown",
   "id": "c03dcbb1",
   "metadata": {},
   "source": [
    "токенизируем предложения:"
   ]
  },
  {
   "cell_type": "code",
   "execution_count": 20,
   "id": "440ca4f3",
   "metadata": {},
   "outputs": [],
   "source": [
    "tokenizer = RegexpTokenizer(r'\\w+')\n",
    "df[\"tokens\"] = df[\"cleaned_comment\"].apply(tokenizer.tokenize)"
   ]
  },
  {
   "cell_type": "markdown",
   "id": "340a6d90",
   "metadata": {},
   "source": [
    "посмотрим на получившийся результат:"
   ]
  },
  {
   "cell_type": "code",
   "execution_count": 21,
   "id": "df9babc3",
   "metadata": {},
   "outputs": [
    {
     "data": {
      "text/html": [
       "<div>\n",
       "<style scoped>\n",
       "    .dataframe tbody tr th:only-of-type {\n",
       "        vertical-align: middle;\n",
       "    }\n",
       "\n",
       "    .dataframe tbody tr th {\n",
       "        vertical-align: top;\n",
       "    }\n",
       "\n",
       "    .dataframe thead th {\n",
       "        text-align: right;\n",
       "    }\n",
       "</style>\n",
       "<table border=\"1\" class=\"dataframe\">\n",
       "  <thead>\n",
       "    <tr style=\"text-align: right;\">\n",
       "      <th></th>\n",
       "      <th>Unnamed: 0</th>\n",
       "      <th>text</th>\n",
       "      <th>toxic</th>\n",
       "      <th>cleaned_comment</th>\n",
       "      <th>tokens</th>\n",
       "    </tr>\n",
       "  </thead>\n",
       "  <tbody>\n",
       "    <tr>\n",
       "      <th>0</th>\n",
       "      <td>0</td>\n",
       "      <td>Explanation\\r\\nWhy the edits made under my use...</td>\n",
       "      <td>0</td>\n",
       "      <td>explanation edits made username hardcore metal...</td>\n",
       "      <td>[explanation, edits, made, username, hardcore,...</td>\n",
       "    </tr>\n",
       "    <tr>\n",
       "      <th>1</th>\n",
       "      <td>1</td>\n",
       "      <td>D'aww! He matches this background colour I'm s...</td>\n",
       "      <td>0</td>\n",
       "      <td>daww match background colour im seemingly stuc...</td>\n",
       "      <td>[daww, match, background, colour, im, seemingl...</td>\n",
       "    </tr>\n",
       "    <tr>\n",
       "      <th>2</th>\n",
       "      <td>2</td>\n",
       "      <td>Hey man, I'm really not trying to edit war. It...</td>\n",
       "      <td>0</td>\n",
       "      <td>hey man im really trying edit war guy constant...</td>\n",
       "      <td>[hey, man, im, really, trying, edit, war, guy,...</td>\n",
       "    </tr>\n",
       "    <tr>\n",
       "      <th>3</th>\n",
       "      <td>3</td>\n",
       "      <td>\"\\r\\nMore\\r\\nI can't make any real suggestions...</td>\n",
       "      <td>0</td>\n",
       "      <td>cant make real suggestion improvement wondered...</td>\n",
       "      <td>[cant, make, real, suggestion, improvement, wo...</td>\n",
       "    </tr>\n",
       "    <tr>\n",
       "      <th>4</th>\n",
       "      <td>4</td>\n",
       "      <td>You, sir, are my hero. Any chance you remember...</td>\n",
       "      <td>0</td>\n",
       "      <td>sir hero chance remember page thats</td>\n",
       "      <td>[sir, hero, chance, remember, page, thats]</td>\n",
       "    </tr>\n",
       "  </tbody>\n",
       "</table>\n",
       "</div>"
      ],
      "text/plain": [
       "   Unnamed: 0                                               text  toxic  \\\n",
       "0           0  Explanation\\r\\nWhy the edits made under my use...      0   \n",
       "1           1  D'aww! He matches this background colour I'm s...      0   \n",
       "2           2  Hey man, I'm really not trying to edit war. It...      0   \n",
       "3           3  \"\\r\\nMore\\r\\nI can't make any real suggestions...      0   \n",
       "4           4  You, sir, are my hero. Any chance you remember...      0   \n",
       "\n",
       "                                     cleaned_comment  \\\n",
       "0  explanation edits made username hardcore metal...   \n",
       "1  daww match background colour im seemingly stuc...   \n",
       "2  hey man im really trying edit war guy constant...   \n",
       "3  cant make real suggestion improvement wondered...   \n",
       "4                sir hero chance remember page thats   \n",
       "\n",
       "                                              tokens  \n",
       "0  [explanation, edits, made, username, hardcore,...  \n",
       "1  [daww, match, background, colour, im, seemingl...  \n",
       "2  [hey, man, im, really, trying, edit, war, guy,...  \n",
       "3  [cant, make, real, suggestion, improvement, wo...  \n",
       "4         [sir, hero, chance, remember, page, thats]  "
      ]
     },
     "execution_count": 21,
     "metadata": {},
     "output_type": "execute_result"
    }
   ],
   "source": [
    "df.head()"
   ]
  },
  {
   "cell_type": "markdown",
   "id": "a75dd92e",
   "metadata": {},
   "source": [
    "### 3.3 Изучим детальнее наш датасет"
   ]
  },
  {
   "cell_type": "markdown",
   "id": "274ca58e",
   "metadata": {},
   "source": [
    "Посмотрим на баланс классов:"
   ]
  },
  {
   "cell_type": "code",
   "execution_count": 22,
   "id": "6a5311d5",
   "metadata": {},
   "outputs": [
    {
     "data": {
      "text/html": [
       "<div>\n",
       "<style scoped>\n",
       "    .dataframe tbody tr th:only-of-type {\n",
       "        vertical-align: middle;\n",
       "    }\n",
       "\n",
       "    .dataframe tbody tr th {\n",
       "        vertical-align: top;\n",
       "    }\n",
       "\n",
       "    .dataframe thead th {\n",
       "        text-align: right;\n",
       "    }\n",
       "</style>\n",
       "<table border=\"1\" class=\"dataframe\">\n",
       "  <thead>\n",
       "    <tr style=\"text-align: right;\">\n",
       "      <th></th>\n",
       "      <th>Unnamed: 0</th>\n",
       "      <th>text</th>\n",
       "      <th>cleaned_comment</th>\n",
       "      <th>tokens</th>\n",
       "    </tr>\n",
       "    <tr>\n",
       "      <th>toxic</th>\n",
       "      <th></th>\n",
       "      <th></th>\n",
       "      <th></th>\n",
       "      <th></th>\n",
       "    </tr>\n",
       "  </thead>\n",
       "  <tbody>\n",
       "    <tr>\n",
       "      <th>0</th>\n",
       "      <td>143106</td>\n",
       "      <td>143106</td>\n",
       "      <td>143106</td>\n",
       "      <td>143106</td>\n",
       "    </tr>\n",
       "    <tr>\n",
       "      <th>1</th>\n",
       "      <td>16186</td>\n",
       "      <td>16186</td>\n",
       "      <td>16186</td>\n",
       "      <td>16186</td>\n",
       "    </tr>\n",
       "  </tbody>\n",
       "</table>\n",
       "</div>"
      ],
      "text/plain": [
       "       Unnamed: 0    text  cleaned_comment  tokens\n",
       "toxic                                             \n",
       "0          143106  143106           143106  143106\n",
       "1           16186   16186            16186   16186"
      ]
     },
     "execution_count": 22,
     "metadata": {},
     "output_type": "execute_result"
    }
   ],
   "source": [
    "df.groupby(\"toxic\").count()"
   ]
  },
  {
   "cell_type": "markdown",
   "id": "3f6d349f",
   "metadata": {},
   "source": [
    "*Видим явный дисбаланс классов с избыточной выборкой \"не токсичных\" комментариев.*"
   ]
  },
  {
   "cell_type": "markdown",
   "id": "cd2e6088",
   "metadata": {},
   "source": [
    "#### Выведем информацию о комментариях:"
   ]
  },
  {
   "cell_type": "code",
   "execution_count": 29,
   "id": "7334b3d5",
   "metadata": {},
   "outputs": [
    {
     "name": "stdout",
     "output_type": "stream",
     "text": [
      "Всего 5565177 слов\n",
      "Уникальных токенов словаре: 239367\n",
      "Наибольшая длина комментария: 1250\n"
     ]
    }
   ],
   "source": [
    "all_words = [word for tokens in df[\"tokens\"] for word in tokens]\n",
    "sentence_lengths = [len(tokens) for tokens in df[\"tokens\"]]\n",
    "VOCAB = sorted(list(set(all_words)))\n",
    "print(f\"Всего {len(all_words)} слов\\nУникальных токенов словаре: {len(VOCAB)}\\nНаибольшая длина комментария: {max(sentence_lengths)}\")"
   ]
  },
  {
   "cell_type": "code",
   "execution_count": 40,
   "id": "1d84296f",
   "metadata": {},
   "outputs": [
    {
     "data": {
      "image/png": "[encoded data removed]",
      "text/plain": [
       "<Figure size 1000x500 with 1 Axes>"
      ]
     },
     "metadata": {},
     "output_type": "display_data"
    }
   ],
   "source": [
    "fig = plt.figure(figsize=(10, 5)) \n",
    "plt.xlabel('Длина комментария')\n",
    "plt.ylabel('Частота')\n",
    "plt.hist(sentence_lengths, bins=50)\n",
    "plt.show()"
   ]
  },
  {
   "cell_type": "markdown",
   "id": "c7cb1605",
   "metadata": {},
   "source": [
    "### 4. Перейдем непорседственно к машинному обучению:"
   ]
  },
  {
   "cell_type": "markdown",
   "id": "0e8a591f",
   "metadata": {},
   "source": [
    "Естественным способом представления текста для компьютеров является кодирование каждого символа отдельно, однако это кажется крайне неадекватным для представления и понимания языка. Нашей целью является создание полезного встраивания для каждого предложения в нашем наборе данных, а затем использование этих встраиваний для точного предсказания соответствующей категории.\n",
    "\n",
    "Самый простой подход, с которого мы можем начать, - это использование модели \"мешка слов\" (bag of words) и применение логистической регрессии сверху. Модель \"мешка слов\" просто сопоставляет индекс каждому слову в нашем словаре и встраивает каждое предложение в список из 0, с 1 в каждом индексе, соответствующем слову, присутствующему в предложении."
   ]
  },
  {
   "cell_type": "code",
   "execution_count": null,
   "id": "ee3758ed",
   "metadata": {},
   "outputs": [],
   "source": []
  },
  {
   "cell_type": "code",
   "execution_count": 43,
   "id": "a574fccf",
   "metadata": {},
   "outputs": [],
   "source": [
    "def vectorize_text_data(data):\n",
    "    count_vectorizer = CountVectorizer()\n",
    "\n",
    "    emb = count_vectorizer.fit_transform(data)\n",
    "\n",
    "    return emb, count_vectorizer"
   ]
  },
  {
   "cell_type": "code",
   "execution_count": 44,
   "id": "6fb56ef8",
   "metadata": {},
   "outputs": [],
   "source": [
    "list_corpus = df[\"cleaned_comment\"].tolist()\n",
    "list_labels = df[\"toxic\"].tolist()\n",
    "\n",
    "X_train, X_test, y_train, y_test = train_test_split(list_corpus, list_labels, test_size=0.2, \n",
    "                                                                                random_state=40)\n",
    "\n",
    "X_train_counts, count_vectorizer = vectorize_text_data(X_train)\n",
    "X_test_counts = count_vectorizer.transform(X_test)"
   ]
  },
  {
   "cell_type": "code",
   "execution_count": null,
   "id": "acf575f8",
   "metadata": {},
   "outputs": [],
   "source": []
  },
  {
   "cell_type": "code",
   "execution_count": null,
   "id": "35a5b9db",
   "metadata": {},
   "outputs": [],
   "source": []
  },
  {
   "cell_type": "code",
   "execution_count": null,
   "id": "fdbca92f",
   "metadata": {},
   "outputs": [],
   "source": []
  },
  {
   "cell_type": "code",
   "execution_count": null,
   "id": "d0dd4317",
   "metadata": {},
   "outputs": [],
   "source": []
  },
  {
   "cell_type": "code",
   "execution_count": null,
   "id": "fe307de7",
   "metadata": {},
   "outputs": [],
   "source": []
  },
  {
   "cell_type": "code",
   "execution_count": 16,
   "id": "fcc648c2",
   "metadata": {},
   "outputs": [],
   "source": [
    "X_train, X_test, y_train, y_test = train_test_split(df_preprocessing['cleaned_comment'], df_preprocessing['toxic'], test_size=0.2, random_state=42)"
   ]
  },
  {
   "cell_type": "code",
   "execution_count": 17,
   "id": "529c36ac",
   "metadata": {},
   "outputs": [
    {
     "data": {
      "text/html": [
       "<style>#sk-container-id-1 {color: black;}#sk-container-id-1 pre{padding: 0;}#sk-container-id-1 div.sk-toggleable {background-color: white;}#sk-container-id-1 label.sk-toggleable__label {cursor: pointer;display: block;width: 100%;margin-bottom: 0;padding: 0.3em;box-sizing: border-box;text-align: center;}#sk-container-id-1 label.sk-toggleable__label-arrow:before {content: \"▸\";float: left;margin-right: 0.25em;color: #696969;}#sk-container-id-1 label.sk-toggleable__label-arrow:hover:before {color: black;}#sk-container-id-1 div.sk-estimator:hover label.sk-toggleable__label-arrow:before {color: black;}#sk-container-id-1 div.sk-toggleable__content {max-height: 0;max-width: 0;overflow: hidden;text-align: left;background-color: #f0f8ff;}#sk-container-id-1 div.sk-toggleable__content pre {margin: 0.2em;color: black;border-radius: 0.25em;background-color: #f0f8ff;}#sk-container-id-1 input.sk-toggleable__control:checked~div.sk-toggleable__content {max-height: 200px;max-width: 100%;overflow: auto;}#sk-container-id-1 input.sk-toggleable__control:checked~label.sk-toggleable__label-arrow:before {content: \"▾\";}#sk-container-id-1 div.sk-estimator input.sk-toggleable__control:checked~label.sk-toggleable__label {background-color: #d4ebff;}#sk-container-id-1 div.sk-label input.sk-toggleable__control:checked~label.sk-toggleable__label {background-color: #d4ebff;}#sk-container-id-1 input.sk-hidden--visually {border: 0;clip: rect(1px 1px 1px 1px);clip: rect(1px, 1px, 1px, 1px);height: 1px;margin: -1px;overflow: hidden;padding: 0;position: absolute;width: 1px;}#sk-container-id-1 div.sk-estimator {font-family: monospace;background-color: #f0f8ff;border: 1px dotted black;border-radius: 0.25em;box-sizing: border-box;margin-bottom: 0.5em;}#sk-container-id-1 div.sk-estimator:hover {background-color: #d4ebff;}#sk-container-id-1 div.sk-parallel-item::after {content: \"\";width: 100%;border-bottom: 1px solid gray;flex-grow: 1;}#sk-container-id-1 div.sk-label:hover label.sk-toggleable__label {background-color: #d4ebff;}#sk-container-id-1 div.sk-serial::before {content: \"\";position: absolute;border-left: 1px solid gray;box-sizing: border-box;top: 0;bottom: 0;left: 50%;z-index: 0;}#sk-container-id-1 div.sk-serial {display: flex;flex-direction: column;align-items: center;background-color: white;padding-right: 0.2em;padding-left: 0.2em;position: relative;}#sk-container-id-1 div.sk-item {position: relative;z-index: 1;}#sk-container-id-1 div.sk-parallel {display: flex;align-items: stretch;justify-content: center;background-color: white;position: relative;}#sk-container-id-1 div.sk-item::before, #sk-container-id-1 div.sk-parallel-item::before {content: \"\";position: absolute;border-left: 1px solid gray;box-sizing: border-box;top: 0;bottom: 0;left: 50%;z-index: -1;}#sk-container-id-1 div.sk-parallel-item {display: flex;flex-direction: column;z-index: 1;position: relative;background-color: white;}#sk-container-id-1 div.sk-parallel-item:first-child::after {align-self: flex-end;width: 50%;}#sk-container-id-1 div.sk-parallel-item:last-child::after {align-self: flex-start;width: 50%;}#sk-container-id-1 div.sk-parallel-item:only-child::after {width: 0;}#sk-container-id-1 div.sk-dashed-wrapped {border: 1px dashed gray;margin: 0 0.4em 0.5em 0.4em;box-sizing: border-box;padding-bottom: 0.4em;background-color: white;}#sk-container-id-1 div.sk-label label {font-family: monospace;font-weight: bold;display: inline-block;line-height: 1.2em;}#sk-container-id-1 div.sk-label-container {text-align: center;}#sk-container-id-1 div.sk-container {/* jupyter's `normalize.less` sets `[hidden] { display: none; }` but bootstrap.min.css set `[hidden] { display: none !important; }` so we also need the `!important` here to be able to override the default hidden behavior on the sphinx rendered scikit-learn.org. See: https://github.com/scikit-learn/scikit-learn/issues/21755 */display: inline-block !important;position: relative;}#sk-container-id-1 div.sk-text-repr-fallback {display: none;}</style><div id=\"sk-container-id-1\" class=\"sk-top-container\"><div class=\"sk-text-repr-fallback\"><pre>Pipeline(steps=[(&#x27;tfidfvectorizer&#x27;, TfidfVectorizer()),\n",
       "                (&#x27;logisticregression&#x27;, LogisticRegression(max_iter=1000))])</pre><b>In a Jupyter environment, please rerun this cell to show the HTML representation or trust the notebook. <br />On GitHub, the HTML representation is unable to render, please try loading this page with nbviewer.org.</b></div><div class=\"sk-container\" hidden><div class=\"sk-item sk-dashed-wrapped\"><div class=\"sk-label-container\"><div class=\"sk-label sk-toggleable\"><input class=\"sk-toggleable__control sk-hidden--visually\" id=\"sk-estimator-id-1\" type=\"checkbox\" ><label for=\"sk-estimator-id-1\" class=\"sk-toggleable__label sk-toggleable__label-arrow\">Pipeline</label><div class=\"sk-toggleable__content\"><pre>Pipeline(steps=[(&#x27;tfidfvectorizer&#x27;, TfidfVectorizer()),\n",
       "                (&#x27;logisticregression&#x27;, LogisticRegression(max_iter=1000))])</pre></div></div></div><div class=\"sk-serial\"><div class=\"sk-item\"><div class=\"sk-estimator sk-toggleable\"><input class=\"sk-toggleable__control sk-hidden--visually\" id=\"sk-estimator-id-2\" type=\"checkbox\" ><label for=\"sk-estimator-id-2\" class=\"sk-toggleable__label sk-toggleable__label-arrow\">TfidfVectorizer</label><div class=\"sk-toggleable__content\"><pre>TfidfVectorizer()</pre></div></div></div><div class=\"sk-item\"><div class=\"sk-estimator sk-toggleable\"><input class=\"sk-toggleable__control sk-hidden--visually\" id=\"sk-estimator-id-3\" type=\"checkbox\" ><label for=\"sk-estimator-id-3\" class=\"sk-toggleable__label sk-toggleable__label-arrow\">LogisticRegression</label><div class=\"sk-toggleable__content\"><pre>LogisticRegression(max_iter=1000)</pre></div></div></div></div></div></div></div>"
      ],
      "text/plain": [
       "Pipeline(steps=[('tfidfvectorizer', TfidfVectorizer()),\n",
       "                ('logisticregression', LogisticRegression(max_iter=1000))])"
      ]
     },
     "execution_count": 17,
     "metadata": {},
     "output_type": "execute_result"
    }
   ],
   "source": [
    "model_tfidf = make_pipeline(TfidfVectorizer(), LogisticRegression(max_iter=1000))\n",
    "model_tfidf.fit(X_train, y_train)"
   ]
  },
  {
   "cell_type": "code",
   "execution_count": 18,
   "id": "b5d5f158",
   "metadata": {},
   "outputs": [
    {
     "name": "stdout",
     "output_type": "stream",
     "text": [
      "F1 Score: 73.08567096285064\n"
     ]
    }
   ],
   "source": [
    "y_pred = model_tfidf.predict(X_test)\n",
    "f1 = f1_score(y_test, y_pred)\n",
    "print(f'F1 Score: {f1*100}')"
   ]
  },
  {
   "cell_type": "code",
   "execution_count": null,
   "id": "08783966",
   "metadata": {},
   "outputs": [],
   "source": []
  },
  {
   "cell_type": "code",
   "execution_count": null,
   "id": "cf06f086",
   "metadata": {},
   "outputs": [],
   "source": []
  },
  {
   "cell_type": "markdown",
   "id": "d3217275",
   "metadata": {},
   "source": [
    "*Как показывает гистограмма, машины, побывавшие в ремонте значительно дешевле. Высокобюджетные автомобили практически не бывают в ремонте*"
   ]
  },
  {
   "cell_type": "markdown",
   "id": "e18529e2",
   "metadata": {},
   "source": [
    "### Выводы:"
   ]
  },
  {
   "cell_type": "markdown",
   "id": "3d6d0b5a",
   "metadata": {},
   "source": [
    "1. Мы почистили данные от выбросов \n",
    "2. Заполнили пропуски\n",
    "3. Избавились от дубликатов\n",
    "4. Проанализировали признаки на характер их влияния на ценообразование\n",
    "5. Данные содержат, как числовые, так и категориальные признаки"
   ]
  },
  {
   "cell_type": "markdown",
   "id": "950a06ab",
   "metadata": {},
   "source": [
    "---------"
   ]
  },
  {
   "cell_type": "markdown",
   "id": "7ac7f0ca",
   "metadata": {},
   "source": [
    "## 4. Моделирование"
   ]
  },
  {
   "cell_type": "markdown",
   "id": "be94cc1f",
   "metadata": {},
   "source": [
    "Преобразуем категориальные признаки в числовые:"
   ]
  },
  {
   "cell_type": "code",
   "execution_count": 38,
   "id": "056a4eb7",
   "metadata": {},
   "outputs": [],
   "source": [
    "df = df_preprocessing.copy()\n",
    "df = df.astype({\"VehicleType\":'category',\n",
    "                \"Gearbox\":'category',\n",
    "                \"Model\":'category',\n",
    "                \"FuelType\":'category',\n",
    "                \"Brand\":'category',\n",
    "                \"Repaired\":'category'})"
   ]
  },
  {
   "cell_type": "markdown",
   "id": "6fa8841c",
   "metadata": {},
   "source": [
    "Установим значение случайного распределения для воспроизводимости работы кода на других устройствах:"
   ]
  },
  {
   "cell_type": "code",
   "execution_count": 39,
   "id": "89a3a53e",
   "metadata": {},
   "outputs": [],
   "source": [
    "seed = 42"
   ]
  },
  {
   "cell_type": "markdown",
   "id": "8298d310",
   "metadata": {},
   "source": [
    "Разобьем данные на обучающую и тестовую выборки в соотношении 80:20 %"
   ]
  },
  {
   "cell_type": "code",
   "execution_count": 40,
   "id": "fbf66deb",
   "metadata": {},
   "outputs": [],
   "source": [
    "test_size = 0.2"
   ]
  },
  {
   "cell_type": "code",
   "execution_count": 41,
   "id": "37bede69",
   "metadata": {},
   "outputs": [],
   "source": [
    "X = df.drop(\"Price\",axis = 1)\n",
    "y = df[\"Price\"]"
   ]
  },
  {
   "cell_type": "code",
   "execution_count": 42,
   "id": "06399c8b",
   "metadata": {},
   "outputs": [],
   "source": [
    "X_train, X_test, y_train, y_test = train_test_split(X, y, test_size=test_size, random_state=seed)"
   ]
  },
  {
   "cell_type": "markdown",
   "id": "4fac7217",
   "metadata": {},
   "source": [
    "Убедимся в корректности разбиения:"
   ]
  },
  {
   "cell_type": "code",
   "execution_count": 43,
   "id": "4764dedb",
   "metadata": {},
   "outputs": [
    {
     "data": {
      "text/plain": [
       "((259691, 10), (64923, 10), (259691,), (64923,))"
      ]
     },
     "execution_count": 43,
     "metadata": {},
     "output_type": "execute_result"
    }
   ],
   "source": [
    "X_train.shape, X_test.shape, y_train.shape, y_test.shape"
   ]
  },
  {
   "cell_type": "markdown",
   "id": "fc74ed3e",
   "metadata": {},
   "source": [
    "**Метод LightGBM:**"
   ]
  },
  {
   "cell_type": "code",
   "execution_count": 44,
   "id": "a4511a22",
   "metadata": {},
   "outputs": [],
   "source": [
    "lgb_model = lgb.LGBMRegressor()"
   ]
  },
  {
   "cell_type": "markdown",
   "id": "139581c8",
   "metadata": {},
   "source": [
    "Используем GridSearchCV для поиска оптимальных гиперпараметров и обучим модель на обучающем наборе данных:"
   ]
  },
  {
   "cell_type": "code",
   "execution_count": 45,
   "id": "d1a4ed2f",
   "metadata": {},
   "outputs": [],
   "source": [
    "param_grid = {'n_estimators': [100],\n",
    "              'max_depth': [7, 10],\n",
    "              'metric': ['rmse']}"
   ]
  },
  {
   "cell_type": "code",
   "execution_count": 46,
   "id": "1b5007d3",
   "metadata": {
    "scrolled": false
   },
   "outputs": [
    {
     "name": "stdout",
     "output_type": "stream",
     "text": [
      "[LightGBM] [Warning] Accuracy may be bad since you didn't explicitly set num_leaves OR 2^max_depth > num_leaves. (num_leaves=31).\n",
      "[LightGBM] [Warning] Accuracy may be bad since you didn't explicitly set num_leaves OR 2^max_depth > num_leaves. (num_leaves=31).\n",
      "[LightGBM] [Info] Auto-choosing row-wise multi-threading, the overhead of testing was 0.006304 seconds.\n",
      "You can set `force_row_wise=true` to remove the overhead.\n",
      "And if memory is not enough, you can set `force_col_wise=true`.\n",
      "[LightGBM] [Info] Total Bins 624\n",
      "[LightGBM] [Info] Number of data points in the train set: 207752, number of used features: 10\n",
      "[LightGBM] [Info] Start training from score 3836.608591\n",
      "[LightGBM] [Warning] Accuracy may be bad since you didn't explicitly set num_leaves OR 2^max_depth > num_leaves. (num_leaves=31).\n",
      "[LightGBM] [Warning] Accuracy may be bad since you didn't explicitly set num_leaves OR 2^max_depth > num_leaves. (num_leaves=31).\n",
      "[LightGBM] [Warning] Accuracy may be bad since you didn't explicitly set num_leaves OR 2^max_depth > num_leaves. (num_leaves=31).\n",
      "[LightGBM] [Info] Auto-choosing row-wise multi-threading, the overhead of testing was 0.006581 seconds.\n",
      "You can set `force_row_wise=true` to remove the overhead.\n",
      "And if memory is not enough, you can set `force_col_wise=true`.\n",
      "[LightGBM] [Info] Total Bins 622\n",
      "[LightGBM] [Info] Number of data points in the train set: 207753, number of used features: 10\n",
      "[LightGBM] [Info] Start training from score 3844.506900\n",
      "[LightGBM] [Warning] No further splits with positive gain, best gain: -inf\n",
      "[LightGBM] [Warning] No further splits with positive gain, best gain: -inf\n",
      "[LightGBM] [Warning] No further splits with positive gain, best gain: -inf\n",
      "[LightGBM] [Warning] Accuracy may be bad since you didn't explicitly set num_leaves OR 2^max_depth > num_leaves. (num_leaves=31).\n",
      "[LightGBM] [Warning] Accuracy may be bad since you didn't explicitly set num_leaves OR 2^max_depth > num_leaves. (num_leaves=31).\n",
      "[LightGBM] [Warning] Accuracy may be bad since you didn't explicitly set num_leaves OR 2^max_depth > num_leaves. (num_leaves=31).\n",
      "[LightGBM] [Info] Auto-choosing row-wise multi-threading, the overhead of testing was 0.005459 seconds.\n",
      "You can set `force_row_wise=true` to remove the overhead.\n",
      "And if memory is not enough, you can set `force_col_wise=true`.\n",
      "[LightGBM] [Info] Total Bins 627\n",
      "[LightGBM] [Info] Number of data points in the train set: 207753, number of used features: 10\n",
      "[LightGBM] [Info] Start training from score 3828.942080\n",
      "[LightGBM] [Warning] No further splits with positive gain, best gain: -inf\n",
      "[LightGBM] [Warning] No further splits with positive gain, best gain: -inf\n",
      "[LightGBM] [Warning] No further splits with positive gain, best gain: -inf\n",
      "[LightGBM] [Warning] No further splits with positive gain, best gain: -inf\n",
      "[LightGBM] [Warning] No further splits with positive gain, best gain: -inf\n",
      "[LightGBM] [Warning] Accuracy may be bad since you didn't explicitly set num_leaves OR 2^max_depth > num_leaves. (num_leaves=31).\n",
      "[LightGBM] [Warning] Accuracy may be bad since you didn't explicitly set num_leaves OR 2^max_depth > num_leaves. (num_leaves=31).\n",
      "[LightGBM] [Warning] Accuracy may be bad since you didn't explicitly set num_leaves OR 2^max_depth > num_leaves. (num_leaves=31).\n",
      "[LightGBM] [Info] Auto-choosing row-wise multi-threading, the overhead of testing was 0.004254 seconds.\n",
      "You can set `force_row_wise=true` to remove the overhead.\n",
      "And if memory is not enough, you can set `force_col_wise=true`.\n",
      "[LightGBM] [Info] Total Bins 621\n",
      "[LightGBM] [Info] Number of data points in the train set: 207753, number of used features: 10\n",
      "[LightGBM] [Info] Start training from score 3828.583034\n",
      "[LightGBM] [Warning] No further splits with positive gain, best gain: -inf\n",
      "[LightGBM] [Warning] No further splits with positive gain, best gain: -inf\n",
      "[LightGBM] [Warning] No further splits with positive gain, best gain: -inf\n",
      "[LightGBM] [Warning] No further splits with positive gain, best gain: -inf\n",
      "[LightGBM] [Warning] Accuracy may be bad since you didn't explicitly set num_leaves OR 2^max_depth > num_leaves. (num_leaves=31).\n",
      "[LightGBM] [Warning] Accuracy may be bad since you didn't explicitly set num_leaves OR 2^max_depth > num_leaves. (num_leaves=31).\n",
      "[LightGBM] [Warning] Accuracy may be bad since you didn't explicitly set num_leaves OR 2^max_depth > num_leaves. (num_leaves=31).\n",
      "[LightGBM] [Info] Auto-choosing row-wise multi-threading, the overhead of testing was 0.006632 seconds.\n",
      "You can set `force_row_wise=true` to remove the overhead.\n",
      "And if memory is not enough, you can set `force_col_wise=true`.\n",
      "[LightGBM] [Info] Total Bins 624\n",
      "[LightGBM] [Info] Number of data points in the train set: 207753, number of used features: 10\n",
      "[LightGBM] [Info] Start training from score 3839.188281\n",
      "[LightGBM] [Warning] No further splits with positive gain, best gain: -inf\n",
      "[LightGBM] [Warning] No further splits with positive gain, best gain: -inf\n",
      "[LightGBM] [Warning] No further splits with positive gain, best gain: -inf\n",
      "[LightGBM] [Warning] Accuracy may be bad since you didn't explicitly set num_leaves OR 2^max_depth > num_leaves. (num_leaves=31).\n",
      "[LightGBM] [Warning] Accuracy may be bad since you didn't explicitly set num_leaves OR 2^max_depth > num_leaves. (num_leaves=31).\n",
      "[LightGBM] [Warning] Accuracy may be bad since you didn't explicitly set num_leaves OR 2^max_depth > num_leaves. (num_leaves=31).\n",
      "[LightGBM] [Info] Auto-choosing row-wise multi-threading, the overhead of testing was 0.005878 seconds.\n",
      "You can set `force_row_wise=true` to remove the overhead.\n",
      "And if memory is not enough, you can set `force_col_wise=true`.\n",
      "[LightGBM] [Info] Total Bins 624\n",
      "[LightGBM] [Info] Number of data points in the train set: 207752, number of used features: 10\n",
      "[LightGBM] [Info] Start training from score 3836.608591\n",
      "[LightGBM] [Warning] Accuracy may be bad since you didn't explicitly set num_leaves OR 2^max_depth > num_leaves. (num_leaves=31).\n",
      "[LightGBM] [Warning] Accuracy may be bad since you didn't explicitly set num_leaves OR 2^max_depth > num_leaves. (num_leaves=31).\n",
      "[LightGBM] [Warning] Accuracy may be bad since you didn't explicitly set num_leaves OR 2^max_depth > num_leaves. (num_leaves=31).\n",
      "[LightGBM] [Info] Auto-choosing row-wise multi-threading, the overhead of testing was 0.006497 seconds.\n",
      "You can set `force_row_wise=true` to remove the overhead.\n",
      "And if memory is not enough, you can set `force_col_wise=true`.\n",
      "[LightGBM] [Info] Total Bins 622\n",
      "[LightGBM] [Info] Number of data points in the train set: 207753, number of used features: 10\n",
      "[LightGBM] [Info] Start training from score 3844.506900\n",
      "[LightGBM] [Warning] Accuracy may be bad since you didn't explicitly set num_leaves OR 2^max_depth > num_leaves. (num_leaves=31).\n",
      "[LightGBM] [Warning] Accuracy may be bad since you didn't explicitly set num_leaves OR 2^max_depth > num_leaves. (num_leaves=31).\n",
      "[LightGBM] [Warning] Accuracy may be bad since you didn't explicitly set num_leaves OR 2^max_depth > num_leaves. (num_leaves=31).\n",
      "[LightGBM] [Info] Auto-choosing row-wise multi-threading, the overhead of testing was 0.005656 seconds.\n",
      "You can set `force_row_wise=true` to remove the overhead.\n",
      "And if memory is not enough, you can set `force_col_wise=true`.\n",
      "[LightGBM] [Info] Total Bins 627\n",
      "[LightGBM] [Info] Number of data points in the train set: 207753, number of used features: 10\n",
      "[LightGBM] [Info] Start training from score 3828.942080\n",
      "[LightGBM] [Warning] Accuracy may be bad since you didn't explicitly set num_leaves OR 2^max_depth > num_leaves. (num_leaves=31).\n",
      "[LightGBM] [Warning] Accuracy may be bad since you didn't explicitly set num_leaves OR 2^max_depth > num_leaves. (num_leaves=31).\n",
      "[LightGBM] [Warning] Accuracy may be bad since you didn't explicitly set num_leaves OR 2^max_depth > num_leaves. (num_leaves=31).\n",
      "[LightGBM] [Info] Auto-choosing row-wise multi-threading, the overhead of testing was 0.006013 seconds.\n",
      "You can set `force_row_wise=true` to remove the overhead.\n",
      "And if memory is not enough, you can set `force_col_wise=true`.\n",
      "[LightGBM] [Info] Total Bins 621\n",
      "[LightGBM] [Info] Number of data points in the train set: 207753, number of used features: 10\n",
      "[LightGBM] [Info] Start training from score 3828.583034\n",
      "[LightGBM] [Warning] Accuracy may be bad since you didn't explicitly set num_leaves OR 2^max_depth > num_leaves. (num_leaves=31).\n",
      "[LightGBM] [Warning] Accuracy may be bad since you didn't explicitly set num_leaves OR 2^max_depth > num_leaves. (num_leaves=31).\n",
      "[LightGBM] [Warning] Accuracy may be bad since you didn't explicitly set num_leaves OR 2^max_depth > num_leaves. (num_leaves=31).\n",
      "[LightGBM] [Info] Auto-choosing row-wise multi-threading, the overhead of testing was 0.006118 seconds.\n",
      "You can set `force_row_wise=true` to remove the overhead.\n",
      "And if memory is not enough, you can set `force_col_wise=true`.\n",
      "[LightGBM] [Info] Total Bins 624\n",
      "[LightGBM] [Info] Number of data points in the train set: 207753, number of used features: 10\n",
      "[LightGBM] [Info] Start training from score 3839.188281\n"
     ]
    },
    {
     "name": "stdout",
     "output_type": "stream",
     "text": [
      "[LightGBM] [Warning] Accuracy may be bad since you didn't explicitly set num_leaves OR 2^max_depth > num_leaves. (num_leaves=31).\n",
      "[LightGBM] [Warning] Accuracy may be bad since you didn't explicitly set num_leaves OR 2^max_depth > num_leaves. (num_leaves=31).\n",
      "[LightGBM] [Warning] Accuracy may be bad since you didn't explicitly set num_leaves OR 2^max_depth > num_leaves. (num_leaves=31).\n",
      "[LightGBM] [Info] Auto-choosing row-wise multi-threading, the overhead of testing was 0.008724 seconds.\n",
      "You can set `force_row_wise=true` to remove the overhead.\n",
      "And if memory is not enough, you can set `force_col_wise=true`.\n",
      "[LightGBM] [Info] Total Bins 626\n",
      "[LightGBM] [Info] Number of data points in the train set: 259691, number of used features: 10\n",
      "[LightGBM] [Info] Start training from score 3835.565776\n",
      "Wall time: 7.03 s\n"
     ]
    },
    {
     "data": {
      "text/plain": [
       "GridSearchCV(cv=5, estimator=LGBMRegressor(),\n",
       "             param_grid={'max_depth': [7, 10], 'metric': ['rmse'],\n",
       "                         'n_estimators': [100]},\n",
       "             scoring='neg_mean_squared_error')"
      ]
     },
     "execution_count": 46,
     "metadata": {},
     "output_type": "execute_result"
    }
   ],
   "source": [
    "%%time\n",
    "grid_search = GridSearchCV(estimator=lgb_model, param_grid=param_grid, scoring='neg_mean_squared_error', cv=5)\n",
    "grid_search.fit(X_train, y_train)"
   ]
  },
  {
   "cell_type": "markdown",
   "id": "cbb12010",
   "metadata": {},
   "source": [
    "Получим лучшие гиперпараметры:"
   ]
  },
  {
   "cell_type": "code",
   "execution_count": 51,
   "id": "eed97552",
   "metadata": {},
   "outputs": [
    {
     "name": "stdout",
     "output_type": "stream",
     "text": [
      "Лучшие гиперпараметры:\n",
      "{'max_depth': 10, 'metric': 'rmse', 'n_estimators': 100}\n"
     ]
    }
   ],
   "source": [
    "best_lgb_params = grid_search.best_params_\n",
    "print(\"Лучшие гиперпараметры:\")\n",
    "print(best_lgb_params)"
   ]
  },
  {
   "cell_type": "markdown",
   "id": "fb7d1f2d",
   "metadata": {},
   "source": [
    "best_lgb_model = grid_search.best_estimator_\n",
    "\n",
    "y_pred = best_lgb_model.predict(X_test)\n",
    "\n",
    "lgbm_rmse = round(mean_squared_error(y_test, y_pred, squared=False),4)\n",
    "print(f\"Точность лучшей модели: {lgbm_rmse}\")"
   ]
  },
  {
   "cell_type": "markdown",
   "id": "cc935320",
   "metadata": {},
   "source": [
    "Сделаем предсказание на тестовом наборе:"
   ]
  },
  {
   "cell_type": "code",
   "execution_count": 52,
   "id": "905515dd",
   "metadata": {},
   "outputs": [
    {
     "name": "stdout",
     "output_type": "stream",
     "text": [
      "[LightGBM] [Warning] Accuracy may be bad since you didn't explicitly set num_leaves OR 2^max_depth > num_leaves. (num_leaves=31).\n"
     ]
    }
   ],
   "source": [
    "best_lgb_model = grid_search.best_estimator_\n",
    "lgbm_predictions = best_lgb_model.predict(X_test);"
   ]
  },
  {
   "cell_type": "markdown",
   "id": "b3aff876",
   "metadata": {},
   "source": [
    "Рассчитаем величину целевой метрики:"
   ]
  },
  {
   "cell_type": "code",
   "execution_count": 53,
   "id": "d3756ffb",
   "metadata": {},
   "outputs": [
    {
     "name": "stdout",
     "output_type": "stream",
     "text": [
      "Точность лучшей модели: 1421.0692\n"
     ]
    }
   ],
   "source": [
    "lgbm_rmse = round(mean_squared_error(y_test, lgbm_predictions, squared=False),4)\n",
    "print(f\"Точность лучшей модели: {lgbm_rmse}\")"
   ]
  },
  {
   "cell_type": "markdown",
   "id": "b532c136",
   "metadata": {},
   "source": [
    "Выведем самые важные для обучения признаки:"
   ]
  },
  {
   "cell_type": "code",
   "execution_count": null,
   "id": "0e94f892",
   "metadata": {},
   "outputs": [],
   "source": [
    "feature_importances = best_lgb_model.feature_importances_\n",
    "importance_df = pd.DataFrame({'Feature': X_train.columns, 'Importance': feature_importances})\n",
    "importance_df = importance_df.sort_values(by='Importance', ascending=False)\n",
    "print(importance_df.head(10))\n",
    "\n",
    "plt.figure(figsize=(10, 6))\n",
    "sns.barplot(x='Importance', y='Feature', data=importance_df.head(10))\n",
    "plt.title('Top 10 Feature Importances')\n",
    "plt.show()"
   ]
  },
  {
   "cell_type": "markdown",
   "id": "1d7f4f08",
   "metadata": {},
   "source": [
    "## Вывод"
   ]
  },
  {
   "cell_type": "markdown",
   "id": "98af4be3",
   "metadata": {},
   "source": [
    "|Название модели| RMSE | Время обучения, с | Время предсказания, мс |\n",
    "|------------|----------|-------------------|-----------------------|\n",
    "|LightGBM| 2432 | 7.03 | 20 |"
   ]
  },
  {
   "cell_type": "markdown",
   "id": "4830a373",
   "metadata": {},
   "source": [
    "1. Мы проанализировали DataFrame с данными о рыночной стоимости машин.\n",
    "2. Составили модели машинного обучения на основе метода LightGBM\n",
    "3. Провели тест составленных алгоритмов.\n",
    "<br>RMSE составил: 1421 соответственно."
   ]
  },
  {
   "cell_type": "code",
   "execution_count": null,
   "id": "662d7d9d",
   "metadata": {},
   "outputs": [],
   "source": []
  }
 ],
 "metadata": {
  "kernelspec": {
   "display_name": "Python 3 (ipykernel)",
   "language": "python",
   "name": "python3"
  },
  "language_info": {
   "codemirror_mode": {
    "name": "ipython",
    "version": 3
   },
   "file_extension": ".py",
   "mimetype": "text/x-python",
   "name": "python",
   "nbconvert_exporter": "python",
   "pygments_lexer": "ipython3",
   "version": "3.11.5"
  }
 },
 "nbformat": 4,
 "nbformat_minor": 5
}
