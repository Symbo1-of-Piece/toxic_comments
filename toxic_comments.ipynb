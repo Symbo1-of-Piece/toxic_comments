{
 "cells": [
  {
   "cell_type": "markdown",
   "id": "bc3d2ebd",
   "metadata": {},
   "source": [
    "# Решение турнирной задачи внутри отдела"
   ]
  },
  {
   "cell_type": "markdown",
   "id": "da4fc8fc",
   "metadata": {},
   "source": [
    "## 1. Введение"
   ]
  },
  {
   "cell_type": "markdown",
   "id": "a8a3cb87",
   "metadata": {},
   "source": [
    "Представлен датасет, содержащий различных комментарии, кластеризованные в зависимости от содержания на токсичные и нейтральные.\n",
    "<br>\n",
    "\n",
    "Необходимо составить модель ML, определяющая комментарий к той или иной группе.\n",
    "\n",
    "Ключевая метрика - f1-мера"
   ]
  },
  {
   "cell_type": "markdown",
   "id": "6c699f12",
   "metadata": {},
   "source": [
    "------"
   ]
  },
  {
   "cell_type": "markdown",
   "id": "231a85ed",
   "metadata": {},
   "source": [
    "## 2. Первичное знакомство с данными"
   ]
  },
  {
   "cell_type": "markdown",
   "id": "82b0c8ad",
   "metadata": {},
   "source": [
    "Установка библиотек (опционально, при отсутствии):"
   ]
  },
  {
   "cell_type": "code",
   "execution_count": 22,
   "id": "52bd7e87",
   "metadata": {},
   "outputs": [],
   "source": [
    "# pip install pandas seaborn matplotlib scipy tabulate scikit-learn plotly"
   ]
  },
  {
   "cell_type": "markdown",
   "id": "7f7b25a3",
   "metadata": {},
   "source": [
    "Импорт библиотек:"
   ]
  },
  {
   "cell_type": "code",
   "execution_count": 25,
   "id": "93a9547c",
   "metadata": {},
   "outputs": [],
   "source": [
    "import pandas as pd \n",
    "import seaborn as sns\n",
    "import matplotlib.pyplot as plt\n",
    "import numpy as np\n",
    "import plotly.graph_objects as go\n",
    "from scipy.stats import shapiro\n",
    "from tabulate import tabulate"
   ]
  },
  {
   "cell_type": "code",
   "execution_count": 26,
   "id": "f7c3545e",
   "metadata": {},
   "outputs": [],
   "source": [
    "from sklearn.model_selection import train_test_split\n",
    "from sklearn.metrics import classification_report, mean_squared_error\n",
    "import xgboost as xgb\n",
    "from sklearn.preprocessing import StandardScaler\n",
    "from sklearn.model_selection import GridSearchCV"
   ]
  },
  {
   "cell_type": "markdown",
   "id": "fc5a8c99",
   "metadata": {},
   "source": [
    "Считываем файл CSV:"
   ]
  },
  {
   "cell_type": "code",
   "execution_count": 27,
   "id": "050b2260",
   "metadata": {},
   "outputs": [],
   "source": [
    "PATH = 'toxic_comments.csv'"
   ]
  },
  {
   "cell_type": "code",
   "execution_count": 28,
   "id": "62f0325c",
   "metadata": {},
   "outputs": [],
   "source": [
    "df_init = pd.read_csv(PATH)"
   ]
  },
  {
   "cell_type": "markdown",
   "id": "2f058152",
   "metadata": {},
   "source": [
    "Выведем первые и последние 5 строк:"
   ]
  },
  {
   "cell_type": "code",
   "execution_count": 43,
   "id": "ec6c886f",
   "metadata": {},
   "outputs": [
    {
     "data": {
      "text/html": [
       "<div>\n",
       "<style scoped>\n",
       "    .dataframe tbody tr th:only-of-type {\n",
       "        vertical-align: middle;\n",
       "    }\n",
       "\n",
       "    .dataframe tbody tr th {\n",
       "        vertical-align: top;\n",
       "    }\n",
       "\n",
       "    .dataframe thead th {\n",
       "        text-align: right;\n",
       "    }\n",
       "</style>\n",
       "<table border=\"1\" class=\"dataframe\">\n",
       "  <thead>\n",
       "    <tr style=\"text-align: right;\">\n",
       "      <th></th>\n",
       "      <th>Unnamed: 0</th>\n",
       "      <th>text</th>\n",
       "      <th>toxic</th>\n",
       "    </tr>\n",
       "  </thead>\n",
       "  <tbody>\n",
       "    <tr>\n",
       "      <th>0</th>\n",
       "      <td>0</td>\n",
       "      <td>Explanation\\nWhy the edits made under my usern...</td>\n",
       "      <td>0</td>\n",
       "    </tr>\n",
       "    <tr>\n",
       "      <th>1</th>\n",
       "      <td>1</td>\n",
       "      <td>D'aww! He matches this background colour I'm s...</td>\n",
       "      <td>0</td>\n",
       "    </tr>\n",
       "    <tr>\n",
       "      <th>2</th>\n",
       "      <td>2</td>\n",
       "      <td>Hey man, I'm really not trying to edit war. It...</td>\n",
       "      <td>0</td>\n",
       "    </tr>\n",
       "    <tr>\n",
       "      <th>3</th>\n",
       "      <td>3</td>\n",
       "      <td>\"\\nMore\\nI can't make any real suggestions on ...</td>\n",
       "      <td>0</td>\n",
       "    </tr>\n",
       "    <tr>\n",
       "      <th>4</th>\n",
       "      <td>4</td>\n",
       "      <td>You, sir, are my hero. Any chance you remember...</td>\n",
       "      <td>0</td>\n",
       "    </tr>\n",
       "  </tbody>\n",
       "</table>\n",
       "</div>"
      ],
      "text/plain": [
       "   Unnamed: 0                                               text  toxic\n",
       "0           0  Explanation\\nWhy the edits made under my usern...      0\n",
       "1           1  D'aww! He matches this background colour I'm s...      0\n",
       "2           2  Hey man, I'm really not trying to edit war. It...      0\n",
       "3           3  \"\\nMore\\nI can't make any real suggestions on ...      0\n",
       "4           4  You, sir, are my hero. Any chance you remember...      0"
      ]
     },
     "execution_count": 43,
     "metadata": {},
     "output_type": "execute_result"
    }
   ],
   "source": [
    "df_init.head()"
   ]
  },
  {
   "cell_type": "code",
   "execution_count": 44,
   "id": "4da043ce",
   "metadata": {},
   "outputs": [
    {
     "data": {
      "text/html": [
       "<div>\n",
       "<style scoped>\n",
       "    .dataframe tbody tr th:only-of-type {\n",
       "        vertical-align: middle;\n",
       "    }\n",
       "\n",
       "    .dataframe tbody tr th {\n",
       "        vertical-align: top;\n",
       "    }\n",
       "\n",
       "    .dataframe thead th {\n",
       "        text-align: right;\n",
       "    }\n",
       "</style>\n",
       "<table border=\"1\" class=\"dataframe\">\n",
       "  <thead>\n",
       "    <tr style=\"text-align: right;\">\n",
       "      <th></th>\n",
       "      <th>Unnamed: 0</th>\n",
       "      <th>text</th>\n",
       "      <th>toxic</th>\n",
       "    </tr>\n",
       "  </thead>\n",
       "  <tbody>\n",
       "    <tr>\n",
       "      <th>159287</th>\n",
       "      <td>159446</td>\n",
       "      <td>\":::::And for the second time of asking, when ...</td>\n",
       "      <td>0</td>\n",
       "    </tr>\n",
       "    <tr>\n",
       "      <th>159288</th>\n",
       "      <td>159447</td>\n",
       "      <td>You should be ashamed of yourself \\n\\nThat is ...</td>\n",
       "      <td>0</td>\n",
       "    </tr>\n",
       "    <tr>\n",
       "      <th>159289</th>\n",
       "      <td>159448</td>\n",
       "      <td>Spitzer \\n\\nUmm, theres no actual article for ...</td>\n",
       "      <td>0</td>\n",
       "    </tr>\n",
       "    <tr>\n",
       "      <th>159290</th>\n",
       "      <td>159449</td>\n",
       "      <td>And it looks like it was actually you who put ...</td>\n",
       "      <td>0</td>\n",
       "    </tr>\n",
       "    <tr>\n",
       "      <th>159291</th>\n",
       "      <td>159450</td>\n",
       "      <td>\"\\nAnd ... I really don't think you understand...</td>\n",
       "      <td>0</td>\n",
       "    </tr>\n",
       "  </tbody>\n",
       "</table>\n",
       "</div>"
      ],
      "text/plain": [
       "        Unnamed: 0                                               text  toxic\n",
       "159287      159446  \":::::And for the second time of asking, when ...      0\n",
       "159288      159447  You should be ashamed of yourself \\n\\nThat is ...      0\n",
       "159289      159448  Spitzer \\n\\nUmm, theres no actual article for ...      0\n",
       "159290      159449  And it looks like it was actually you who put ...      0\n",
       "159291      159450  \"\\nAnd ... I really don't think you understand...      0"
      ]
     },
     "execution_count": 44,
     "metadata": {},
     "output_type": "execute_result"
    }
   ],
   "source": [
    "df_init.tail()"
   ]
  },
  {
   "cell_type": "markdown",
   "id": "57dce6d7",
   "metadata": {},
   "source": [
    "Выведем основную информацию о датафрейме:"
   ]
  },
  {
   "cell_type": "code",
   "execution_count": 45,
   "id": "5c7a59dd",
   "metadata": {},
   "outputs": [
    {
     "name": "stdout",
     "output_type": "stream",
     "text": [
      "<class 'pandas.core.frame.DataFrame'>\n",
      "RangeIndex: 159292 entries, 0 to 159291\n",
      "Data columns (total 3 columns):\n",
      " #   Column      Non-Null Count   Dtype \n",
      "---  ------      --------------   ----- \n",
      " 0   Unnamed: 0  159292 non-null  int64 \n",
      " 1   text        159292 non-null  object\n",
      " 2   toxic       159292 non-null  int64 \n",
      "dtypes: int64(2), object(1)\n",
      "memory usage: 3.6+ MB\n"
     ]
    }
   ],
   "source": [
    "df_init.info()"
   ]
  },
  {
   "cell_type": "code",
   "execution_count": 46,
   "id": "6a3f2c86",
   "metadata": {},
   "outputs": [
    {
     "data": {
      "text/html": [
       "<div>\n",
       "<style scoped>\n",
       "    .dataframe tbody tr th:only-of-type {\n",
       "        vertical-align: middle;\n",
       "    }\n",
       "\n",
       "    .dataframe tbody tr th {\n",
       "        vertical-align: top;\n",
       "    }\n",
       "\n",
       "    .dataframe thead th {\n",
       "        text-align: right;\n",
       "    }\n",
       "</style>\n",
       "<table border=\"1\" class=\"dataframe\">\n",
       "  <thead>\n",
       "    <tr style=\"text-align: right;\">\n",
       "      <th></th>\n",
       "      <th>count</th>\n",
       "      <th>mean</th>\n",
       "      <th>std</th>\n",
       "      <th>min</th>\n",
       "      <th>25%</th>\n",
       "      <th>50%</th>\n",
       "      <th>75%</th>\n",
       "      <th>max</th>\n",
       "    </tr>\n",
       "  </thead>\n",
       "  <tbody>\n",
       "    <tr>\n",
       "      <th>Unnamed: 0</th>\n",
       "      <td>159292.0</td>\n",
       "      <td>79725.697242</td>\n",
       "      <td>46028.837471</td>\n",
       "      <td>0.0</td>\n",
       "      <td>39872.75</td>\n",
       "      <td>79721.5</td>\n",
       "      <td>119573.25</td>\n",
       "      <td>159450.0</td>\n",
       "    </tr>\n",
       "    <tr>\n",
       "      <th>toxic</th>\n",
       "      <td>159292.0</td>\n",
       "      <td>0.101612</td>\n",
       "      <td>0.302139</td>\n",
       "      <td>0.0</td>\n",
       "      <td>0.00</td>\n",
       "      <td>0.0</td>\n",
       "      <td>0.00</td>\n",
       "      <td>1.0</td>\n",
       "    </tr>\n",
       "  </tbody>\n",
       "</table>\n",
       "</div>"
      ],
      "text/plain": [
       "               count          mean           std  min       25%      50%  \\\n",
       "Unnamed: 0  159292.0  79725.697242  46028.837471  0.0  39872.75  79721.5   \n",
       "toxic       159292.0      0.101612      0.302139  0.0      0.00      0.0   \n",
       "\n",
       "                  75%       max  \n",
       "Unnamed: 0  119573.25  159450.0  \n",
       "toxic            0.00       1.0  "
      ]
     },
     "execution_count": 46,
     "metadata": {},
     "output_type": "execute_result"
    }
   ],
   "source": [
    "df_init.describe().T"
   ]
  },
  {
   "cell_type": "markdown",
   "id": "4baa8bcb",
   "metadata": {},
   "source": [
    "Проверим наличие пропусков данных:"
   ]
  },
  {
   "cell_type": "code",
   "execution_count": 47,
   "id": "177a9797",
   "metadata": {},
   "outputs": [
    {
     "data": {
      "text/plain": [
       "Unnamed: 0    0\n",
       "text          0\n",
       "toxic         0\n",
       "dtype: int64"
      ]
     },
     "execution_count": 47,
     "metadata": {},
     "output_type": "execute_result"
    }
   ],
   "source": [
    "df_init.isna().sum()"
   ]
  },
  {
   "cell_type": "markdown",
   "id": "c5cc9c7b",
   "metadata": {},
   "source": [
    "Проверим наличие дубликатов:"
   ]
  },
  {
   "cell_type": "code",
   "execution_count": 48,
   "id": "771f7eb1",
   "metadata": {},
   "outputs": [
    {
     "data": {
      "text/plain": [
       "0.0"
      ]
     },
     "execution_count": 48,
     "metadata": {},
     "output_type": "execute_result"
    }
   ],
   "source": [
    "df_init.duplicated().mean()"
   ]
  },
  {
   "cell_type": "markdown",
   "id": "a69aa01e",
   "metadata": {},
   "source": [
    "Для более подробного отчета можно воспользоваться сводной таблицей по всем данным:"
   ]
  },
  {
   "cell_type": "markdown",
   "id": "5c636f09",
   "metadata": {},
   "source": [
    "**Выводы:**"
   ]
  },
  {
   "cell_type": "markdown",
   "id": "f81fe6cd",
   "metadata": {},
   "source": [
    "- Данные состоят только из трех столбцов\n",
    "- Столбец `Unnamed:0` на первый взгляд не содержит полезной информации\n",
    "- Столбец `toxic` содержит только 0 и 1, можно превратить его из int в boolean\n",
    "- Данные не содержат дубликатов"
   ]
  },
  {
   "cell_type": "markdown",
   "id": "d8c031c3",
   "metadata": {},
   "source": [
    "----"
   ]
  },
  {
   "cell_type": "markdown",
   "id": "009f3d94",
   "metadata": {},
   "source": [
    "## 3. Первичный исследовательский анализ"
   ]
  },
  {
   "cell_type": "markdown",
   "id": "85205e88",
   "metadata": {},
   "source": [
    "### 3.1 Предобработаем данные:"
   ]
  },
  {
   "cell_type": "code",
   "execution_count": 49,
   "id": "9b37399c",
   "metadata": {},
   "outputs": [],
   "source": [
    "df_preprocessing = df_init.copy()"
   ]
  },
  {
   "cell_type": "markdown",
   "id": "9531dd18",
   "metadata": {},
   "source": [
    "Удалим ненужные столбцы:"
   ]
  },
  {
   "cell_type": "code",
   "execution_count": 51,
   "id": "acd60aa0",
   "metadata": {},
   "outputs": [],
   "source": [
    "df_preprocessing = df_preprocessing.drop(labels=['Unnamed: 0'], axis=1).copy()"
   ]
  },
  {
   "cell_type": "markdown",
   "id": "deff6cac",
   "metadata": {},
   "source": [
    "### 3.2 Проверим распределение комментариев:"
   ]
  },
  {
   "cell_type": "markdown",
   "id": "4a3fee74",
   "metadata": {},
   "source": [
    "### 3.4 Изучим влияние других показателей на цену:"
   ]
  },
  {
   "cell_type": "markdown",
   "id": "8e043b41",
   "metadata": {},
   "source": [
    "Построим матрицу парных корреляций Спирмена (непараметрический критерий):"
   ]
  },
  {
   "cell_type": "code",
   "execution_count": 55,
   "id": "d6407266",
   "metadata": {},
   "outputs": [
    {
     "data": {
      "image/png": "[encoded data removed]",
      "text/plain": [
       "<Figure size 1000x1000 with 2 Axes>"
      ]
     },
     "metadata": {},
     "output_type": "display_data"
    }
   ],
   "source": [
    "plt.figure(figsize=(10, 10))\n",
    "sns.heatmap(df_preprocessing.corr(method='spearman'), annot=True, fmt=\".2f\", cmap=\"coolwarm\", linewidth=.5)\n",
    "plt.show();"
   ]
  },
  {
   "cell_type": "markdown",
   "id": "383b6227",
   "metadata": {},
   "source": [
    "Анализируя числовые и временные признаи можно сделать следующие выводы: <br>\n",
    "    \n",
    "  - Цена имеет высокую корреляцию с мощностью и годом регистрации автомобиля\n",
    "  - Цена имеет корреляцию с пройденным километражем\n",
    "  - Месяц регистрации на ценообразование не влияет\n",
    "  - Мультиколинеарных признаков среди представленных в таблице не обнаружено"
   ]
  },
  {
   "cell_type": "markdown",
   "id": "7ed7126b",
   "metadata": {},
   "source": [
    "**Влияние категориальных и бинарных признаков на ценообразование:**"
   ]
  },
  {
   "cell_type": "markdown",
   "id": "a89a2f06",
   "metadata": {},
   "source": [
    "Влияние типа кузова на цену:"
   ]
  },
  {
   "cell_type": "code",
   "execution_count": 34,
   "id": "f3ad84f6",
   "metadata": {},
   "outputs": [
    {
     "data": {
      "image/png": "[encoded data removed]",
      "text/plain": [
       "<Figure size 640x480 with 1 Axes>"
      ]
     },
     "metadata": {},
     "output_type": "display_data"
    }
   ],
   "source": [
    "sns.histplot(data=df_preprocessing, x=\"Price\", hue=\"VehicleType\", bins=30, stat='probability', common_norm=False);"
   ]
  },
  {
   "cell_type": "markdown",
   "id": "07d55e88",
   "metadata": {},
   "source": [
    "*Очевидно, машины small - самые дешевые. Coupe и suv самые дорогие.* <br>\n",
    "*Можно сделать вывод, что тип кузова влияет на ценообразование*"
   ]
  },
  {
   "cell_type": "markdown",
   "id": "71f2b562",
   "metadata": {},
   "source": [
    "Влияние типа коробки передач на цену:"
   ]
  },
  {
   "cell_type": "code",
   "execution_count": 35,
   "id": "534c93e1",
   "metadata": {},
   "outputs": [
    {
     "data": {
      "image/png": "[encoded data removed]",
      "text/plain": [
       "<Figure size 640x480 with 1 Axes>"
      ]
     },
     "metadata": {},
     "output_type": "display_data"
    }
   ],
   "source": [
    "sns.histplot(data=df_preprocessing, x=\"Price\", hue=\"Gearbox\", bins=30, stat='probability', common_norm=False);"
   ]
  },
  {
   "cell_type": "markdown",
   "id": "9864b10e",
   "metadata": {},
   "source": [
    "*Механическая коробка передач преобладает у бюджетных автомобилей* <br>\n",
    "*АКПП ставят на более дорогие автомобили*"
   ]
  },
  {
   "cell_type": "markdown",
   "id": "0ff18452",
   "metadata": {},
   "source": [
    "Влияние источника энергии на цену:"
   ]
  },
  {
   "cell_type": "code",
   "execution_count": 36,
   "id": "bef0366e",
   "metadata": {},
   "outputs": [
    {
     "data": {
      "image/png": "[encoded data removed]",
      "text/plain": [
       "<Figure size 640x480 with 1 Axes>"
      ]
     },
     "metadata": {},
     "output_type": "display_data"
    }
   ],
   "source": [
    "sns.histplot(data=df_preprocessing, x=\"Price\", hue=\"FuelType\", bins=30, stat='probability', common_norm=False);"
   ]
  },
  {
   "cell_type": "markdown",
   "id": "b39712b5",
   "metadata": {},
   "source": [
    "*Наибольую долю занимают автомобили с альтернативным топливом (на дровах или навозе наверно :))* <br>\n",
    "*Среди более дорогих машин чаще встречаются электрокары и гибриды*"
   ]
  },
  {
   "cell_type": "markdown",
   "id": "e8124918",
   "metadata": {},
   "source": [
    "Влияние ремонта на цену:"
   ]
  },
  {
   "cell_type": "code",
   "execution_count": 37,
   "id": "e78ebd13",
   "metadata": {},
   "outputs": [
    {
     "data": {
      "image/png": "[encoded data removed]",
      "text/plain": [
       "<Figure size 640x480 with 1 Axes>"
      ]
     },
     "metadata": {},
     "output_type": "display_data"
    }
   ],
   "source": [
    "sns.histplot(data=df_preprocessing, x=\"Price\", hue=\"Repaired\", bins=30, stat='probability', common_norm=False);"
   ]
  },
  {
   "cell_type": "markdown",
   "id": "d3217275",
   "metadata": {},
   "source": [
    "*Как показывает гистограмма, машины, побывавшие в ремонте значительно дешевле. Высокобюджетные автомобили практически не бывают в ремонте*"
   ]
  },
  {
   "cell_type": "markdown",
   "id": "e18529e2",
   "metadata": {},
   "source": [
    "### Выводы:"
   ]
  },
  {
   "cell_type": "markdown",
   "id": "3d6d0b5a",
   "metadata": {},
   "source": [
    "1. Мы почистили данные от выбросов \n",
    "2. Заполнили пропуски\n",
    "3. Избавились от дубликатов\n",
    "4. Проанализировали признаки на характер их влияния на ценообразование\n",
    "5. Данные содержат, как числовые, так и категориальные признаки"
   ]
  },
  {
   "cell_type": "markdown",
   "id": "950a06ab",
   "metadata": {},
   "source": [
    "---------"
   ]
  },
  {
   "cell_type": "markdown",
   "id": "7ac7f0ca",
   "metadata": {},
   "source": [
    "## 4. Моделирование"
   ]
  },
  {
   "cell_type": "markdown",
   "id": "be94cc1f",
   "metadata": {},
   "source": [
    "Преобразуем категориальные признаки в числовые:"
   ]
  },
  {
   "cell_type": "code",
   "execution_count": 38,
   "id": "056a4eb7",
   "metadata": {},
   "outputs": [],
   "source": [
    "df = df_preprocessing.copy()\n",
    "df = df.astype({\"VehicleType\":'category',\n",
    "                \"Gearbox\":'category',\n",
    "                \"Model\":'category',\n",
    "                \"FuelType\":'category',\n",
    "                \"Brand\":'category',\n",
    "                \"Repaired\":'category'})"
   ]
  },
  {
   "cell_type": "markdown",
   "id": "6fa8841c",
   "metadata": {},
   "source": [
    "Установим значение случайного распределения для воспроизводимости работы кода на других устройствах:"
   ]
  },
  {
   "cell_type": "code",
   "execution_count": 39,
   "id": "89a3a53e",
   "metadata": {},
   "outputs": [],
   "source": [
    "seed = 42"
   ]
  },
  {
   "cell_type": "markdown",
   "id": "8298d310",
   "metadata": {},
   "source": [
    "Разобьем данные на обучающую и тестовую выборки в соотношении 80:20 %"
   ]
  },
  {
   "cell_type": "code",
   "execution_count": 40,
   "id": "fbf66deb",
   "metadata": {},
   "outputs": [],
   "source": [
    "test_size = 0.2"
   ]
  },
  {
   "cell_type": "code",
   "execution_count": 41,
   "id": "37bede69",
   "metadata": {},
   "outputs": [],
   "source": [
    "X = df.drop(\"Price\",axis = 1)\n",
    "y = df[\"Price\"]"
   ]
  },
  {
   "cell_type": "code",
   "execution_count": 42,
   "id": "06399c8b",
   "metadata": {},
   "outputs": [],
   "source": [
    "X_train, X_test, y_train, y_test = train_test_split(X, y, test_size=test_size, random_state=seed)"
   ]
  },
  {
   "cell_type": "markdown",
   "id": "4fac7217",
   "metadata": {},
   "source": [
    "Убедимся в корректности разбиения:"
   ]
  },
  {
   "cell_type": "code",
   "execution_count": 43,
   "id": "4764dedb",
   "metadata": {},
   "outputs": [
    {
     "data": {
      "text/plain": [
       "((259691, 10), (64923, 10), (259691,), (64923,))"
      ]
     },
     "execution_count": 43,
     "metadata": {},
     "output_type": "execute_result"
    }
   ],
   "source": [
    "X_train.shape, X_test.shape, y_train.shape, y_test.shape"
   ]
  },
  {
   "cell_type": "markdown",
   "id": "fc74ed3e",
   "metadata": {},
   "source": [
    "**Метод LightGBM:**"
   ]
  },
  {
   "cell_type": "code",
   "execution_count": 44,
   "id": "a4511a22",
   "metadata": {},
   "outputs": [],
   "source": [
    "lgb_model = lgb.LGBMRegressor()"
   ]
  },
  {
   "cell_type": "markdown",
   "id": "139581c8",
   "metadata": {},
   "source": [
    "Используем GridSearchCV для поиска оптимальных гиперпараметров и обучим модель на обучающем наборе данных:"
   ]
  },
  {
   "cell_type": "code",
   "execution_count": 45,
   "id": "d1a4ed2f",
   "metadata": {},
   "outputs": [],
   "source": [
    "param_grid = {'n_estimators': [100],\n",
    "              'max_depth': [7, 10],\n",
    "              'metric': ['rmse']}"
   ]
  },
  {
   "cell_type": "code",
   "execution_count": 46,
   "id": "1b5007d3",
   "metadata": {
    "scrolled": false
   },
   "outputs": [
    {
     "name": "stdout",
     "output_type": "stream",
     "text": [
      "[LightGBM] [Warning] Accuracy may be bad since you didn't explicitly set num_leaves OR 2^max_depth > num_leaves. (num_leaves=31).\n",
      "[LightGBM] [Warning] Accuracy may be bad since you didn't explicitly set num_leaves OR 2^max_depth > num_leaves. (num_leaves=31).\n",
      "[LightGBM] [Info] Auto-choosing row-wise multi-threading, the overhead of testing was 0.006304 seconds.\n",
      "You can set `force_row_wise=true` to remove the overhead.\n",
      "And if memory is not enough, you can set `force_col_wise=true`.\n",
      "[LightGBM] [Info] Total Bins 624\n",
      "[LightGBM] [Info] Number of data points in the train set: 207752, number of used features: 10\n",
      "[LightGBM] [Info] Start training from score 3836.608591\n",
      "[LightGBM] [Warning] Accuracy may be bad since you didn't explicitly set num_leaves OR 2^max_depth > num_leaves. (num_leaves=31).\n",
      "[LightGBM] [Warning] Accuracy may be bad since you didn't explicitly set num_leaves OR 2^max_depth > num_leaves. (num_leaves=31).\n",
      "[LightGBM] [Warning] Accuracy may be bad since you didn't explicitly set num_leaves OR 2^max_depth > num_leaves. (num_leaves=31).\n",
      "[LightGBM] [Info] Auto-choosing row-wise multi-threading, the overhead of testing was 0.006581 seconds.\n",
      "You can set `force_row_wise=true` to remove the overhead.\n",
      "And if memory is not enough, you can set `force_col_wise=true`.\n",
      "[LightGBM] [Info] Total Bins 622\n",
      "[LightGBM] [Info] Number of data points in the train set: 207753, number of used features: 10\n",
      "[LightGBM] [Info] Start training from score 3844.506900\n",
      "[LightGBM] [Warning] No further splits with positive gain, best gain: -inf\n",
      "[LightGBM] [Warning] No further splits with positive gain, best gain: -inf\n",
      "[LightGBM] [Warning] No further splits with positive gain, best gain: -inf\n",
      "[LightGBM] [Warning] Accuracy may be bad since you didn't explicitly set num_leaves OR 2^max_depth > num_leaves. (num_leaves=31).\n",
      "[LightGBM] [Warning] Accuracy may be bad since you didn't explicitly set num_leaves OR 2^max_depth > num_leaves. (num_leaves=31).\n",
      "[LightGBM] [Warning] Accuracy may be bad since you didn't explicitly set num_leaves OR 2^max_depth > num_leaves. (num_leaves=31).\n",
      "[LightGBM] [Info] Auto-choosing row-wise multi-threading, the overhead of testing was 0.005459 seconds.\n",
      "You can set `force_row_wise=true` to remove the overhead.\n",
      "And if memory is not enough, you can set `force_col_wise=true`.\n",
      "[LightGBM] [Info] Total Bins 627\n",
      "[LightGBM] [Info] Number of data points in the train set: 207753, number of used features: 10\n",
      "[LightGBM] [Info] Start training from score 3828.942080\n",
      "[LightGBM] [Warning] No further splits with positive gain, best gain: -inf\n",
      "[LightGBM] [Warning] No further splits with positive gain, best gain: -inf\n",
      "[LightGBM] [Warning] No further splits with positive gain, best gain: -inf\n",
      "[LightGBM] [Warning] No further splits with positive gain, best gain: -inf\n",
      "[LightGBM] [Warning] No further splits with positive gain, best gain: -inf\n",
      "[LightGBM] [Warning] Accuracy may be bad since you didn't explicitly set num_leaves OR 2^max_depth > num_leaves. (num_leaves=31).\n",
      "[LightGBM] [Warning] Accuracy may be bad since you didn't explicitly set num_leaves OR 2^max_depth > num_leaves. (num_leaves=31).\n",
      "[LightGBM] [Warning] Accuracy may be bad since you didn't explicitly set num_leaves OR 2^max_depth > num_leaves. (num_leaves=31).\n",
      "[LightGBM] [Info] Auto-choosing row-wise multi-threading, the overhead of testing was 0.004254 seconds.\n",
      "You can set `force_row_wise=true` to remove the overhead.\n",
      "And if memory is not enough, you can set `force_col_wise=true`.\n",
      "[LightGBM] [Info] Total Bins 621\n",
      "[LightGBM] [Info] Number of data points in the train set: 207753, number of used features: 10\n",
      "[LightGBM] [Info] Start training from score 3828.583034\n",
      "[LightGBM] [Warning] No further splits with positive gain, best gain: -inf\n",
      "[LightGBM] [Warning] No further splits with positive gain, best gain: -inf\n",
      "[LightGBM] [Warning] No further splits with positive gain, best gain: -inf\n",
      "[LightGBM] [Warning] No further splits with positive gain, best gain: -inf\n",
      "[LightGBM] [Warning] Accuracy may be bad since you didn't explicitly set num_leaves OR 2^max_depth > num_leaves. (num_leaves=31).\n",
      "[LightGBM] [Warning] Accuracy may be bad since you didn't explicitly set num_leaves OR 2^max_depth > num_leaves. (num_leaves=31).\n",
      "[LightGBM] [Warning] Accuracy may be bad since you didn't explicitly set num_leaves OR 2^max_depth > num_leaves. (num_leaves=31).\n",
      "[LightGBM] [Info] Auto-choosing row-wise multi-threading, the overhead of testing was 0.006632 seconds.\n",
      "You can set `force_row_wise=true` to remove the overhead.\n",
      "And if memory is not enough, you can set `force_col_wise=true`.\n",
      "[LightGBM] [Info] Total Bins 624\n",
      "[LightGBM] [Info] Number of data points in the train set: 207753, number of used features: 10\n",
      "[LightGBM] [Info] Start training from score 3839.188281\n",
      "[LightGBM] [Warning] No further splits with positive gain, best gain: -inf\n",
      "[LightGBM] [Warning] No further splits with positive gain, best gain: -inf\n",
      "[LightGBM] [Warning] No further splits with positive gain, best gain: -inf\n",
      "[LightGBM] [Warning] Accuracy may be bad since you didn't explicitly set num_leaves OR 2^max_depth > num_leaves. (num_leaves=31).\n",
      "[LightGBM] [Warning] Accuracy may be bad since you didn't explicitly set num_leaves OR 2^max_depth > num_leaves. (num_leaves=31).\n",
      "[LightGBM] [Warning] Accuracy may be bad since you didn't explicitly set num_leaves OR 2^max_depth > num_leaves. (num_leaves=31).\n",
      "[LightGBM] [Info] Auto-choosing row-wise multi-threading, the overhead of testing was 0.005878 seconds.\n",
      "You can set `force_row_wise=true` to remove the overhead.\n",
      "And if memory is not enough, you can set `force_col_wise=true`.\n",
      "[LightGBM] [Info] Total Bins 624\n",
      "[LightGBM] [Info] Number of data points in the train set: 207752, number of used features: 10\n",
      "[LightGBM] [Info] Start training from score 3836.608591\n",
      "[LightGBM] [Warning] Accuracy may be bad since you didn't explicitly set num_leaves OR 2^max_depth > num_leaves. (num_leaves=31).\n",
      "[LightGBM] [Warning] Accuracy may be bad since you didn't explicitly set num_leaves OR 2^max_depth > num_leaves. (num_leaves=31).\n",
      "[LightGBM] [Warning] Accuracy may be bad since you didn't explicitly set num_leaves OR 2^max_depth > num_leaves. (num_leaves=31).\n",
      "[LightGBM] [Info] Auto-choosing row-wise multi-threading, the overhead of testing was 0.006497 seconds.\n",
      "You can set `force_row_wise=true` to remove the overhead.\n",
      "And if memory is not enough, you can set `force_col_wise=true`.\n",
      "[LightGBM] [Info] Total Bins 622\n",
      "[LightGBM] [Info] Number of data points in the train set: 207753, number of used features: 10\n",
      "[LightGBM] [Info] Start training from score 3844.506900\n",
      "[LightGBM] [Warning] Accuracy may be bad since you didn't explicitly set num_leaves OR 2^max_depth > num_leaves. (num_leaves=31).\n",
      "[LightGBM] [Warning] Accuracy may be bad since you didn't explicitly set num_leaves OR 2^max_depth > num_leaves. (num_leaves=31).\n",
      "[LightGBM] [Warning] Accuracy may be bad since you didn't explicitly set num_leaves OR 2^max_depth > num_leaves. (num_leaves=31).\n",
      "[LightGBM] [Info] Auto-choosing row-wise multi-threading, the overhead of testing was 0.005656 seconds.\n",
      "You can set `force_row_wise=true` to remove the overhead.\n",
      "And if memory is not enough, you can set `force_col_wise=true`.\n",
      "[LightGBM] [Info] Total Bins 627\n",
      "[LightGBM] [Info] Number of data points in the train set: 207753, number of used features: 10\n",
      "[LightGBM] [Info] Start training from score 3828.942080\n",
      "[LightGBM] [Warning] Accuracy may be bad since you didn't explicitly set num_leaves OR 2^max_depth > num_leaves. (num_leaves=31).\n",
      "[LightGBM] [Warning] Accuracy may be bad since you didn't explicitly set num_leaves OR 2^max_depth > num_leaves. (num_leaves=31).\n",
      "[LightGBM] [Warning] Accuracy may be bad since you didn't explicitly set num_leaves OR 2^max_depth > num_leaves. (num_leaves=31).\n",
      "[LightGBM] [Info] Auto-choosing row-wise multi-threading, the overhead of testing was 0.006013 seconds.\n",
      "You can set `force_row_wise=true` to remove the overhead.\n",
      "And if memory is not enough, you can set `force_col_wise=true`.\n",
      "[LightGBM] [Info] Total Bins 621\n",
      "[LightGBM] [Info] Number of data points in the train set: 207753, number of used features: 10\n",
      "[LightGBM] [Info] Start training from score 3828.583034\n",
      "[LightGBM] [Warning] Accuracy may be bad since you didn't explicitly set num_leaves OR 2^max_depth > num_leaves. (num_leaves=31).\n",
      "[LightGBM] [Warning] Accuracy may be bad since you didn't explicitly set num_leaves OR 2^max_depth > num_leaves. (num_leaves=31).\n",
      "[LightGBM] [Warning] Accuracy may be bad since you didn't explicitly set num_leaves OR 2^max_depth > num_leaves. (num_leaves=31).\n",
      "[LightGBM] [Info] Auto-choosing row-wise multi-threading, the overhead of testing was 0.006118 seconds.\n",
      "You can set `force_row_wise=true` to remove the overhead.\n",
      "And if memory is not enough, you can set `force_col_wise=true`.\n",
      "[LightGBM] [Info] Total Bins 624\n",
      "[LightGBM] [Info] Number of data points in the train set: 207753, number of used features: 10\n",
      "[LightGBM] [Info] Start training from score 3839.188281\n"
     ]
    },
    {
     "name": "stdout",
     "output_type": "stream",
     "text": [
      "[LightGBM] [Warning] Accuracy may be bad since you didn't explicitly set num_leaves OR 2^max_depth > num_leaves. (num_leaves=31).\n",
      "[LightGBM] [Warning] Accuracy may be bad since you didn't explicitly set num_leaves OR 2^max_depth > num_leaves. (num_leaves=31).\n",
      "[LightGBM] [Warning] Accuracy may be bad since you didn't explicitly set num_leaves OR 2^max_depth > num_leaves. (num_leaves=31).\n",
      "[LightGBM] [Info] Auto-choosing row-wise multi-threading, the overhead of testing was 0.008724 seconds.\n",
      "You can set `force_row_wise=true` to remove the overhead.\n",
      "And if memory is not enough, you can set `force_col_wise=true`.\n",
      "[LightGBM] [Info] Total Bins 626\n",
      "[LightGBM] [Info] Number of data points in the train set: 259691, number of used features: 10\n",
      "[LightGBM] [Info] Start training from score 3835.565776\n",
      "Wall time: 7.03 s\n"
     ]
    },
    {
     "data": {
      "text/plain": [
       "GridSearchCV(cv=5, estimator=LGBMRegressor(),\n",
       "             param_grid={'max_depth': [7, 10], 'metric': ['rmse'],\n",
       "                         'n_estimators': [100]},\n",
       "             scoring='neg_mean_squared_error')"
      ]
     },
     "execution_count": 46,
     "metadata": {},
     "output_type": "execute_result"
    }
   ],
   "source": [
    "%%time\n",
    "grid_search = GridSearchCV(estimator=lgb_model, param_grid=param_grid, scoring='neg_mean_squared_error', cv=5)\n",
    "grid_search.fit(X_train, y_train)"
   ]
  },
  {
   "cell_type": "markdown",
   "id": "cbb12010",
   "metadata": {},
   "source": [
    "Получим лучшие гиперпараметры:"
   ]
  },
  {
   "cell_type": "code",
   "execution_count": 51,
   "id": "eed97552",
   "metadata": {},
   "outputs": [
    {
     "name": "stdout",
     "output_type": "stream",
     "text": [
      "Лучшие гиперпараметры:\n",
      "{'max_depth': 10, 'metric': 'rmse', 'n_estimators': 100}\n"
     ]
    }
   ],
   "source": [
    "best_lgb_params = grid_search.best_params_\n",
    "print(\"Лучшие гиперпараметры:\")\n",
    "print(best_lgb_params)"
   ]
  },
  {
   "cell_type": "markdown",
   "id": "fb7d1f2d",
   "metadata": {},
   "source": [
    "best_lgb_model = grid_search.best_estimator_\n",
    "\n",
    "y_pred = best_lgb_model.predict(X_test)\n",
    "\n",
    "lgbm_rmse = round(mean_squared_error(y_test, y_pred, squared=False),4)\n",
    "print(f\"Точность лучшей модели: {lgbm_rmse}\")"
   ]
  },
  {
   "cell_type": "markdown",
   "id": "cc935320",
   "metadata": {},
   "source": [
    "Сделаем предсказание на тестовом наборе:"
   ]
  },
  {
   "cell_type": "code",
   "execution_count": 52,
   "id": "905515dd",
   "metadata": {},
   "outputs": [
    {
     "name": "stdout",
     "output_type": "stream",
     "text": [
      "[LightGBM] [Warning] Accuracy may be bad since you didn't explicitly set num_leaves OR 2^max_depth > num_leaves. (num_leaves=31).\n"
     ]
    }
   ],
   "source": [
    "best_lgb_model = grid_search.best_estimator_\n",
    "lgbm_predictions = best_lgb_model.predict(X_test);"
   ]
  },
  {
   "cell_type": "markdown",
   "id": "b3aff876",
   "metadata": {},
   "source": [
    "Рассчитаем величину целевой метрики:"
   ]
  },
  {
   "cell_type": "code",
   "execution_count": 53,
   "id": "d3756ffb",
   "metadata": {},
   "outputs": [
    {
     "name": "stdout",
     "output_type": "stream",
     "text": [
      "Точность лучшей модели: 1421.0692\n"
     ]
    }
   ],
   "source": [
    "lgbm_rmse = round(mean_squared_error(y_test, lgbm_predictions, squared=False),4)\n",
    "print(f\"Точность лучшей модели: {lgbm_rmse}\")"
   ]
  },
  {
   "cell_type": "markdown",
   "id": "b532c136",
   "metadata": {},
   "source": [
    "Выведем самые важные для обучения признаки:"
   ]
  },
  {
   "cell_type": "code",
   "execution_count": null,
   "id": "0e94f892",
   "metadata": {},
   "outputs": [],
   "source": [
    "feature_importances = best_lgb_model.feature_importances_\n",
    "importance_df = pd.DataFrame({'Feature': X_train.columns, 'Importance': feature_importances})\n",
    "importance_df = importance_df.sort_values(by='Importance', ascending=False)\n",
    "print(importance_df.head(10))\n",
    "\n",
    "plt.figure(figsize=(10, 6))\n",
    "sns.barplot(x='Importance', y='Feature', data=importance_df.head(10))\n",
    "plt.title('Top 10 Feature Importances')\n",
    "plt.show()"
   ]
  },
  {
   "cell_type": "markdown",
   "id": "1d7f4f08",
   "metadata": {},
   "source": [
    "## Вывод"
   ]
  },
  {
   "cell_type": "markdown",
   "id": "98af4be3",
   "metadata": {},
   "source": [
    "|Название модели| RMSE | Время обучения, с | Время предсказания, мс |\n",
    "|------------|----------|-------------------|-----------------------|\n",
    "|LightGBM| 2432 | 7.03 | 20 |"
   ]
  },
  {
   "cell_type": "markdown",
   "id": "4830a373",
   "metadata": {},
   "source": [
    "1. Мы проанализировали DataFrame с данными о рыночной стоимости машин.\n",
    "2. Составили модели машинного обучения на основе метода LightGBM\n",
    "3. Провели тест составленных алгоритмов.\n",
    "<br>RMSE составил: 1421 соответственно."
   ]
  },
  {
   "cell_type": "code",
   "execution_count": null,
   "id": "662d7d9d",
   "metadata": {},
   "outputs": [],
   "source": []
  }
 ],
 "metadata": {
  "kernelspec": {
   "display_name": "Python 3 (ipykernel)",
   "language": "python",
   "name": "python3"
  },
  "language_info": {
   "codemirror_mode": {
    "name": "ipython",
    "version": 3
   },
   "file_extension": ".py",
   "mimetype": "text/x-python",
   "name": "python",
   "nbconvert_exporter": "python",
   "pygments_lexer": "ipython3",
   "version": "3.9.13"
  }
 },
 "nbformat": 4,
 "nbformat_minor": 5
}
